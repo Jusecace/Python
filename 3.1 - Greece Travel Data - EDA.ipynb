{
 "cells": [
  {
   "cell_type": "code",
   "execution_count": 15,
   "id": "0c9d60cf",
   "metadata": {},
   "outputs": [],
   "source": [
    "#Packages needed to load before starting Data Cleaning process\n",
    "\n",
    "import pandas as pd\n",
    "import seaborn as sns\n",
    "import matplotlib.pyplot as plt\n",
    "import numpy as np\n",
    "import chardet"
   ]
  },
  {
   "cell_type": "code",
   "execution_count": 16,
   "id": "4be55f47",
   "metadata": {},
   "outputs": [
    {
     "data": {
      "text/html": [
       "<div>\n",
       "<style scoped>\n",
       "    .dataframe tbody tr th:only-of-type {\n",
       "        vertical-align: middle;\n",
       "    }\n",
       "\n",
       "    .dataframe tbody tr th {\n",
       "        vertical-align: top;\n",
       "    }\n",
       "\n",
       "    .dataframe thead th {\n",
       "        text-align: right;\n",
       "    }\n",
       "</style>\n",
       "<table border=\"1\" class=\"dataframe\">\n",
       "  <thead>\n",
       "    <tr style=\"text-align: right;\">\n",
       "      <th></th>\n",
       "      <th>Trip #no.</th>\n",
       "      <th>Duration</th>\n",
       "      <th>Cost of Travel(Entire Trip)</th>\n",
       "      <th>Mode of Travel</th>\n",
       "      <th>Stay</th>\n",
       "      <th>First Name</th>\n",
       "      <th>Last Name</th>\n",
       "      <th>Date of Birth</th>\n",
       "      <th>Address</th>\n",
       "      <th>Age</th>\n",
       "      <th>Sex</th>\n",
       "      <th>Nationality</th>\n",
       "      <th>Date of Travel</th>\n",
       "    </tr>\n",
       "  </thead>\n",
       "  <tbody>\n",
       "    <tr>\n",
       "      <th>0</th>\n",
       "      <td>55</td>\n",
       "      <td>1</td>\n",
       "      <td>20111</td>\n",
       "      <td>Flight</td>\n",
       "      <td>Hotel</td>\n",
       "      <td>Cristina</td>\n",
       "      <td>Fuentes</td>\n",
       "      <td>1914-06-14</td>\n",
       "      <td>5143 Pope Camp Apt. 028\\nLake Emily, UT 71371</td>\n",
       "      <td>74</td>\n",
       "      <td>Non-Binary</td>\n",
       "      <td>Lao People's Democratic Republic</td>\n",
       "      <td>2022-09-13</td>\n",
       "    </tr>\n",
       "    <tr>\n",
       "      <th>1</th>\n",
       "      <td>288</td>\n",
       "      <td>5</td>\n",
       "      <td>29681</td>\n",
       "      <td>Car</td>\n",
       "      <td>Hotel</td>\n",
       "      <td>Patricia</td>\n",
       "      <td>Young</td>\n",
       "      <td>1923-09-25</td>\n",
       "      <td>716 Dominguez Row Suite 775\\nSouth Tiffanyboro...</td>\n",
       "      <td>19</td>\n",
       "      <td>Female</td>\n",
       "      <td>Gabon</td>\n",
       "      <td>2021-09-04</td>\n",
       "    </tr>\n",
       "    <tr>\n",
       "      <th>2</th>\n",
       "      <td>291</td>\n",
       "      <td>7</td>\n",
       "      <td>24950</td>\n",
       "      <td>Flight</td>\n",
       "      <td>Airbnb</td>\n",
       "      <td>Christina</td>\n",
       "      <td>Kirby</td>\n",
       "      <td>1935-01-02</td>\n",
       "      <td>PSC 4600, Box 1237\\nAPO AE 32510</td>\n",
       "      <td>36</td>\n",
       "      <td>Female</td>\n",
       "      <td>Syrian Arab Republic</td>\n",
       "      <td>2021-01-25</td>\n",
       "    </tr>\n",
       "    <tr>\n",
       "      <th>3</th>\n",
       "      <td>131</td>\n",
       "      <td>19</td>\n",
       "      <td>18676</td>\n",
       "      <td>Roadtrip</td>\n",
       "      <td>Airbnb</td>\n",
       "      <td>Michael</td>\n",
       "      <td>Hudson</td>\n",
       "      <td>1982-04-21</td>\n",
       "      <td>7013 Bryant Club Suite 695\\nSouth Tina, WI 26739</td>\n",
       "      <td>38</td>\n",
       "      <td>Non-Binary</td>\n",
       "      <td>Afghanistan</td>\n",
       "      <td>2022-01-28</td>\n",
       "    </tr>\n",
       "    <tr>\n",
       "      <th>4</th>\n",
       "      <td>281</td>\n",
       "      <td>28</td>\n",
       "      <td>18899</td>\n",
       "      <td>Flight</td>\n",
       "      <td>Airbnb</td>\n",
       "      <td>Francisco</td>\n",
       "      <td>Hensley</td>\n",
       "      <td>1913-06-29</td>\n",
       "      <td>074 Scott Brook Suite 700\\nLukeville, VA 46541</td>\n",
       "      <td>38</td>\n",
       "      <td>Non-Binary</td>\n",
       "      <td>Uruguay</td>\n",
       "      <td>2021-10-21</td>\n",
       "    </tr>\n",
       "  </tbody>\n",
       "</table>\n",
       "</div>"
      ],
      "text/plain": [
       "   Trip #no.  Duration  Cost of Travel(Entire Trip) Mode of Travel    Stay  \\\n",
       "0         55         1                        20111         Flight   Hotel   \n",
       "1        288         5                        29681            Car   Hotel   \n",
       "2        291         7                        24950         Flight  Airbnb   \n",
       "3        131        19                        18676       Roadtrip  Airbnb   \n",
       "4        281        28                        18899         Flight  Airbnb   \n",
       "\n",
       "  First Name Last Name Date of Birth  \\\n",
       "0   Cristina   Fuentes    1914-06-14   \n",
       "1   Patricia     Young    1923-09-25   \n",
       "2  Christina     Kirby    1935-01-02   \n",
       "3    Michael    Hudson    1982-04-21   \n",
       "4  Francisco   Hensley    1913-06-29   \n",
       "\n",
       "                                             Address  Age         Sex  \\\n",
       "0      5143 Pope Camp Apt. 028\\nLake Emily, UT 71371   74  Non-Binary   \n",
       "1  716 Dominguez Row Suite 775\\nSouth Tiffanyboro...   19      Female   \n",
       "2                   PSC 4600, Box 1237\\nAPO AE 32510   36      Female   \n",
       "3   7013 Bryant Club Suite 695\\nSouth Tina, WI 26739   38  Non-Binary   \n",
       "4     074 Scott Brook Suite 700\\nLukeville, VA 46541   38  Non-Binary   \n",
       "\n",
       "                        Nationality Date of Travel  \n",
       "0  Lao People's Democratic Republic     2022-09-13  \n",
       "1                             Gabon     2021-09-04  \n",
       "2              Syrian Arab Republic     2021-01-25  \n",
       "3                       Afghanistan     2022-01-28  \n",
       "4                           Uruguay     2021-10-21  "
      ]
     },
     "execution_count": 16,
     "metadata": {},
     "output_type": "execute_result"
    }
   ],
   "source": [
    "# since I am using a file in my local drive, I used this expression to open according the enconding done\n",
    "\n",
    "file_path = r\"C:\\Users\\Juan.Cardenas\\Documents\\Python Scripts\\EDA project\\travel_tourism_dataset.csv\"\n",
    "# Detect the encoding\n",
    "with open(file_path, 'rb') as f:\n",
    "    result = chardet.detect(f.read())\n",
    "\n",
    "encoding = result['encoding']\n",
    "\n",
    "# Read the CSV with the detected encoding\n",
    "df = pd.read_csv(file_path, encoding=encoding)\n",
    "\n",
    "df.head()"
   ]
  },
  {
   "cell_type": "code",
   "execution_count": 4,
   "id": "b94c388e",
   "metadata": {},
   "outputs": [
    {
     "name": "stdout",
     "output_type": "stream",
     "text": [
      "<class 'pandas.core.frame.DataFrame'>\n",
      "RangeIndex: 3000 entries, 0 to 2999\n",
      "Data columns (total 13 columns):\n",
      " #   Column                       Non-Null Count  Dtype \n",
      "---  ------                       --------------  ----- \n",
      " 0   Trip #no.                    3000 non-null   int64 \n",
      " 1   Duration                     3000 non-null   int64 \n",
      " 2   Cost of Travel(Entire Trip)  3000 non-null   int64 \n",
      " 3   Mode of Travel               3000 non-null   object\n",
      " 4   Stay                         3000 non-null   object\n",
      " 5   First Name                   3000 non-null   object\n",
      " 6   Last Name                    3000 non-null   object\n",
      " 7   Date of Birth                3000 non-null   object\n",
      " 8   Address                      3000 non-null   object\n",
      " 9   Age                          3000 non-null   int64 \n",
      " 10  Sex                          3000 non-null   object\n",
      " 11  Nationality                  3000 non-null   object\n",
      " 12  Date of Travel               3000 non-null   object\n",
      "dtypes: int64(4), object(9)\n",
      "memory usage: 304.8+ KB\n"
     ]
    }
   ],
   "source": [
    "df.info()"
   ]
  },
  {
   "cell_type": "markdown",
   "id": "926aaebe",
   "metadata": {},
   "source": [
    "## Origin of tourists"
   ]
  },
  {
   "cell_type": "code",
   "execution_count": 5,
   "id": "a0e88ecf",
   "metadata": {},
   "outputs": [
    {
     "data": {
      "text/html": [
       "<div>\n",
       "<style scoped>\n",
       "    .dataframe tbody tr th:only-of-type {\n",
       "        vertical-align: middle;\n",
       "    }\n",
       "\n",
       "    .dataframe tbody tr th {\n",
       "        vertical-align: top;\n",
       "    }\n",
       "\n",
       "    .dataframe thead th {\n",
       "        text-align: right;\n",
       "    }\n",
       "</style>\n",
       "<table border=\"1\" class=\"dataframe\">\n",
       "  <thead>\n",
       "    <tr style=\"text-align: right;\">\n",
       "      <th></th>\n",
       "      <th>Number of Tourists</th>\n",
       "      <th>Percentage of Tourists</th>\n",
       "    </tr>\n",
       "    <tr>\n",
       "      <th>Nationality</th>\n",
       "      <th></th>\n",
       "      <th></th>\n",
       "    </tr>\n",
       "  </thead>\n",
       "  <tbody>\n",
       "    <tr>\n",
       "      <th>Korea</th>\n",
       "      <td>31</td>\n",
       "      <td>1.033333</td>\n",
       "    </tr>\n",
       "    <tr>\n",
       "      <th>Lebanon</th>\n",
       "      <td>24</td>\n",
       "      <td>0.800000</td>\n",
       "    </tr>\n",
       "    <tr>\n",
       "      <th>Congo</th>\n",
       "      <td>23</td>\n",
       "      <td>0.766667</td>\n",
       "    </tr>\n",
       "    <tr>\n",
       "      <th>Gambia</th>\n",
       "      <td>23</td>\n",
       "      <td>0.766667</td>\n",
       "    </tr>\n",
       "    <tr>\n",
       "      <th>Lao People's Democratic Republic</th>\n",
       "      <td>23</td>\n",
       "      <td>0.766667</td>\n",
       "    </tr>\n",
       "    <tr>\n",
       "      <th>...</th>\n",
       "      <td>...</td>\n",
       "      <td>...</td>\n",
       "    </tr>\n",
       "    <tr>\n",
       "      <th>Albania</th>\n",
       "      <td>6</td>\n",
       "      <td>0.200000</td>\n",
       "    </tr>\n",
       "    <tr>\n",
       "      <th>Tunisia</th>\n",
       "      <td>6</td>\n",
       "      <td>0.200000</td>\n",
       "    </tr>\n",
       "    <tr>\n",
       "      <th>Gibraltar</th>\n",
       "      <td>5</td>\n",
       "      <td>0.166667</td>\n",
       "    </tr>\n",
       "    <tr>\n",
       "      <th>Costa Rica</th>\n",
       "      <td>5</td>\n",
       "      <td>0.166667</td>\n",
       "    </tr>\n",
       "    <tr>\n",
       "      <th>Trinidad and Tobago</th>\n",
       "      <td>5</td>\n",
       "      <td>0.166667</td>\n",
       "    </tr>\n",
       "  </tbody>\n",
       "</table>\n",
       "<p>243 rows × 2 columns</p>\n",
       "</div>"
      ],
      "text/plain": [
       "                                  Number of Tourists  Percentage of Tourists\n",
       "Nationality                                                                 \n",
       "Korea                                             31                1.033333\n",
       "Lebanon                                           24                0.800000\n",
       "Congo                                             23                0.766667\n",
       "Gambia                                            23                0.766667\n",
       "Lao People's Democratic Republic                  23                0.766667\n",
       "...                                              ...                     ...\n",
       "Albania                                            6                0.200000\n",
       "Tunisia                                            6                0.200000\n",
       "Gibraltar                                          5                0.166667\n",
       "Costa Rica                                         5                0.166667\n",
       "Trinidad and Tobago                                5                0.166667\n",
       "\n",
       "[243 rows x 2 columns]"
      ]
     },
     "execution_count": 5,
     "metadata": {},
     "output_type": "execute_result"
    }
   ],
   "source": [
    "origin = df.groupby('Nationality').size()\n",
    "total_tourist = origin.sum()\n",
    "tourist_percentage = (origin/total_tourist)*100\n",
    "\n",
    "nationality_summary = pd.DataFrame({\n",
    "    'Number of Tourists': origin,\n",
    "    'Percentage of Tourists': tourist_percentage\n",
    "})\n",
    "nationality_summary.sort_values(by='Number of Tourists', ascending=False, inplace=True)\n",
    "nationality_summary"
   ]
  },
  {
   "cell_type": "markdown",
   "id": "50ded5db",
   "metadata": {},
   "source": [
    "Origin is irrelevant as the highest one does not represent more than 1% of the total amount of natinalities from tourists."
   ]
  },
  {
   "cell_type": "markdown",
   "id": "0a08d134",
   "metadata": {},
   "source": [
    "## Gender"
   ]
  },
  {
   "cell_type": "code",
   "execution_count": 6,
   "id": "fd92ee58",
   "metadata": {},
   "outputs": [
    {
     "data": {
      "text/html": [
       "<div>\n",
       "<style scoped>\n",
       "    .dataframe tbody tr th:only-of-type {\n",
       "        vertical-align: middle;\n",
       "    }\n",
       "\n",
       "    .dataframe tbody tr th {\n",
       "        vertical-align: top;\n",
       "    }\n",
       "\n",
       "    .dataframe thead th {\n",
       "        text-align: right;\n",
       "    }\n",
       "</style>\n",
       "<table border=\"1\" class=\"dataframe\">\n",
       "  <thead>\n",
       "    <tr style=\"text-align: right;\">\n",
       "      <th></th>\n",
       "      <th>Number of Individuals</th>\n",
       "      <th>Percentage of Individuals</th>\n",
       "    </tr>\n",
       "    <tr>\n",
       "      <th>Sex</th>\n",
       "      <th></th>\n",
       "      <th></th>\n",
       "    </tr>\n",
       "  </thead>\n",
       "  <tbody>\n",
       "    <tr>\n",
       "      <th>Female</th>\n",
       "      <td>735</td>\n",
       "      <td>24.500000</td>\n",
       "    </tr>\n",
       "    <tr>\n",
       "      <th>Male</th>\n",
       "      <td>775</td>\n",
       "      <td>25.833333</td>\n",
       "    </tr>\n",
       "    <tr>\n",
       "      <th>Non-Binary</th>\n",
       "      <td>739</td>\n",
       "      <td>24.633333</td>\n",
       "    </tr>\n",
       "    <tr>\n",
       "      <th>Transgender</th>\n",
       "      <td>751</td>\n",
       "      <td>25.033333</td>\n",
       "    </tr>\n",
       "  </tbody>\n",
       "</table>\n",
       "</div>"
      ],
      "text/plain": [
       "             Number of Individuals  Percentage of Individuals\n",
       "Sex                                                          \n",
       "Female                         735                  24.500000\n",
       "Male                           775                  25.833333\n",
       "Non-Binary                     739                  24.633333\n",
       "Transgender                    751                  25.033333"
      ]
     },
     "execution_count": 6,
     "metadata": {},
     "output_type": "execute_result"
    }
   ],
   "source": [
    "gender = df.groupby('Sex').size()\n",
    "gender_total = gender.sum()\n",
    "gender_percentage = (gender/gender_total)*100\n",
    "\n",
    "gender_summary = pd.DataFrame({\n",
    "    'Number of Individuals': gender,\n",
    "    'Percentage of Individuals': gender_percentage\n",
    "})\n",
    "gender_summary\n"
   ]
  },
  {
   "cell_type": "markdown",
   "id": "b6471103",
   "metadata": {},
   "source": [
    "Gender is also not relevant as it is evenly distributed within the 4 groups. Eahc on represents 1/4 of total (aprox)."
   ]
  },
  {
   "cell_type": "markdown",
   "id": "3a6615db",
   "metadata": {},
   "source": [
    "## Mode of Travel"
   ]
  },
  {
   "cell_type": "code",
   "execution_count": 25,
   "id": "95ad26f2",
   "metadata": {},
   "outputs": [
    {
     "data": {
      "text/plain": [
       "Mode of Travel\n",
       "Bus         516\n",
       "Car         551\n",
       "Cruise      501\n",
       "Flight      461\n",
       "Roadtrip    473\n",
       "Train       498\n",
       "dtype: int64"
      ]
     },
     "execution_count": 25,
     "metadata": {},
     "output_type": "execute_result"
    }
   ],
   "source": [
    "transport = df.groupby('Mode of Travel').size()\n",
    "transport"
   ]
  },
  {
   "cell_type": "code",
   "execution_count": 26,
   "id": "05760a18",
   "metadata": {},
   "outputs": [
    {
     "data": {
      "text/html": [
       "<div>\n",
       "<style scoped>\n",
       "    .dataframe tbody tr th:only-of-type {\n",
       "        vertical-align: middle;\n",
       "    }\n",
       "\n",
       "    .dataframe tbody tr th {\n",
       "        vertical-align: top;\n",
       "    }\n",
       "\n",
       "    .dataframe thead th {\n",
       "        text-align: right;\n",
       "    }\n",
       "</style>\n",
       "<table border=\"1\" class=\"dataframe\">\n",
       "  <thead>\n",
       "    <tr style=\"text-align: right;\">\n",
       "      <th></th>\n",
       "      <th>Cost of Travel(Entire Trip)</th>\n",
       "    </tr>\n",
       "    <tr>\n",
       "      <th>Mode of Travel</th>\n",
       "      <th></th>\n",
       "    </tr>\n",
       "  </thead>\n",
       "  <tbody>\n",
       "    <tr>\n",
       "      <th>Bus</th>\n",
       "      <td>17605.990310</td>\n",
       "    </tr>\n",
       "    <tr>\n",
       "      <th>Car</th>\n",
       "      <td>18130.148820</td>\n",
       "    </tr>\n",
       "    <tr>\n",
       "      <th>Cruise</th>\n",
       "      <td>17811.011976</td>\n",
       "    </tr>\n",
       "    <tr>\n",
       "      <th>Flight</th>\n",
       "      <td>17902.605206</td>\n",
       "    </tr>\n",
       "    <tr>\n",
       "      <th>Roadtrip</th>\n",
       "      <td>17111.928118</td>\n",
       "    </tr>\n",
       "    <tr>\n",
       "      <th>Train</th>\n",
       "      <td>17831.823293</td>\n",
       "    </tr>\n",
       "  </tbody>\n",
       "</table>\n",
       "</div>"
      ],
      "text/plain": [
       "                Cost of Travel(Entire Trip)\n",
       "Mode of Travel                             \n",
       "Bus                            17605.990310\n",
       "Car                            18130.148820\n",
       "Cruise                         17811.011976\n",
       "Flight                         17902.605206\n",
       "Roadtrip                       17111.928118\n",
       "Train                          17831.823293"
      ]
     },
     "execution_count": 26,
     "metadata": {},
     "output_type": "execute_result"
    }
   ],
   "source": [
    "travel_transport = df.groupby('Mode of Travel').agg({'Cost of Travel(Entire Trip)': 'mean'})\n",
    "travel_transport"
   ]
  },
  {
   "cell_type": "markdown",
   "id": "4e886561",
   "metadata": {},
   "source": [
    "## Stay"
   ]
  },
  {
   "cell_type": "code",
   "execution_count": 27,
   "id": "026ebb57",
   "metadata": {},
   "outputs": [
    {
     "data": {
      "text/plain": [
       "Stay\n",
       "Airbnb     786\n",
       "Hotel      724\n",
       "Other      787\n",
       "Resorts    703\n",
       "dtype: int64"
      ]
     },
     "execution_count": 27,
     "metadata": {},
     "output_type": "execute_result"
    }
   ],
   "source": [
    "stay = df.groupby('Stay').size()\n",
    "stay"
   ]
  },
  {
   "cell_type": "code",
   "execution_count": 28,
   "id": "ed8b4769",
   "metadata": {},
   "outputs": [
    {
     "data": {
      "text/html": [
       "<div>\n",
       "<style scoped>\n",
       "    .dataframe tbody tr th:only-of-type {\n",
       "        vertical-align: middle;\n",
       "    }\n",
       "\n",
       "    .dataframe tbody tr th {\n",
       "        vertical-align: top;\n",
       "    }\n",
       "\n",
       "    .dataframe thead th {\n",
       "        text-align: right;\n",
       "    }\n",
       "</style>\n",
       "<table border=\"1\" class=\"dataframe\">\n",
       "  <thead>\n",
       "    <tr style=\"text-align: right;\">\n",
       "      <th></th>\n",
       "      <th>Cost of Travel(Entire Trip)</th>\n",
       "    </tr>\n",
       "    <tr>\n",
       "      <th>Stay</th>\n",
       "      <th></th>\n",
       "    </tr>\n",
       "  </thead>\n",
       "  <tbody>\n",
       "    <tr>\n",
       "      <th>Airbnb</th>\n",
       "      <td>17960.255725</td>\n",
       "    </tr>\n",
       "    <tr>\n",
       "      <th>Hotel</th>\n",
       "      <td>17532.023481</td>\n",
       "    </tr>\n",
       "    <tr>\n",
       "      <th>Other</th>\n",
       "      <td>17766.290978</td>\n",
       "    </tr>\n",
       "    <tr>\n",
       "      <th>Resorts</th>\n",
       "      <td>17685.624467</td>\n",
       "    </tr>\n",
       "  </tbody>\n",
       "</table>\n",
       "</div>"
      ],
      "text/plain": [
       "         Cost of Travel(Entire Trip)\n",
       "Stay                                \n",
       "Airbnb                  17960.255725\n",
       "Hotel                   17532.023481\n",
       "Other                   17766.290978\n",
       "Resorts                 17685.624467"
      ]
     },
     "execution_count": 28,
     "metadata": {},
     "output_type": "execute_result"
    }
   ],
   "source": [
    "stay_transport = df.groupby('Stay').agg({'Cost of Travel(Entire Trip)': 'mean'})\n",
    "stay_transport"
   ]
  },
  {
   "cell_type": "markdown",
   "id": "abf67bbe",
   "metadata": {},
   "source": [
    "### None of the above are significantly different to attribute more weight than the others"
   ]
  },
  {
   "cell_type": "code",
   "execution_count": null,
   "id": "09a1d229",
   "metadata": {},
   "outputs": [],
   "source": []
  },
  {
   "cell_type": "code",
   "execution_count": null,
   "id": "2718491f",
   "metadata": {},
   "outputs": [],
   "source": []
  },
  {
   "cell_type": "code",
   "execution_count": null,
   "id": "b14c3240",
   "metadata": {},
   "outputs": [],
   "source": []
  },
  {
   "cell_type": "code",
   "execution_count": null,
   "id": "02014461",
   "metadata": {},
   "outputs": [],
   "source": []
  },
  {
   "cell_type": "markdown",
   "id": "2eaf4deb",
   "metadata": {},
   "source": [
    "## Age"
   ]
  },
  {
   "cell_type": "code",
   "execution_count": 32,
   "id": "8a2fb0a4",
   "metadata": {},
   "outputs": [
    {
     "name": "stdout",
     "output_type": "stream",
     "text": [
      "Total groups: 58\n"
     ]
    },
    {
     "data": {
      "text/html": [
       "<div>\n",
       "<style scoped>\n",
       "    .dataframe tbody tr th:only-of-type {\n",
       "        vertical-align: middle;\n",
       "    }\n",
       "\n",
       "    .dataframe tbody tr th {\n",
       "        vertical-align: top;\n",
       "    }\n",
       "\n",
       "    .dataframe thead th {\n",
       "        text-align: right;\n",
       "    }\n",
       "</style>\n",
       "<table border=\"1\" class=\"dataframe\">\n",
       "  <thead>\n",
       "    <tr style=\"text-align: right;\">\n",
       "      <th></th>\n",
       "      <th>Age</th>\n",
       "      <th>Number of Individuals</th>\n",
       "    </tr>\n",
       "  </thead>\n",
       "  <tbody>\n",
       "    <tr>\n",
       "      <th>57</th>\n",
       "      <td>75</td>\n",
       "      <td>43</td>\n",
       "    </tr>\n",
       "    <tr>\n",
       "      <th>56</th>\n",
       "      <td>74</td>\n",
       "      <td>56</td>\n",
       "    </tr>\n",
       "    <tr>\n",
       "      <th>55</th>\n",
       "      <td>73</td>\n",
       "      <td>50</td>\n",
       "    </tr>\n",
       "    <tr>\n",
       "      <th>54</th>\n",
       "      <td>72</td>\n",
       "      <td>56</td>\n",
       "    </tr>\n",
       "    <tr>\n",
       "      <th>53</th>\n",
       "      <td>71</td>\n",
       "      <td>53</td>\n",
       "    </tr>\n",
       "  </tbody>\n",
       "</table>\n",
       "</div>"
      ],
      "text/plain": [
       "    Age  Number of Individuals\n",
       "57   75                     43\n",
       "56   74                     56\n",
       "55   73                     50\n",
       "54   72                     56\n",
       "53   71                     53"
      ]
     },
     "execution_count": 32,
     "metadata": {},
     "output_type": "execute_result"
    }
   ],
   "source": [
    "age = df.groupby('Age').size()\n",
    "age_total = age.sum()\n",
    "age_percentage = (age/age_total)*100\n",
    "\n",
    "\n",
    "age_groups = df.groupby('Age').ngroups\n",
    "print('Total groups:',age_groups)\n",
    "\n",
    "\n",
    "age_summary = pd.DataFrame({\n",
    "    'Number of Individuals': age\n",
    "})\n",
    "\n",
    "age_summary.reset_index(inplace=True)\n",
    "\n",
    "age_summary.sort_values(by='Age', ascending=False, inplace=True)\n",
    "\n",
    "age_summary.head()\n"
   ]
  },
  {
   "cell_type": "code",
   "execution_count": 10,
   "id": "e7f96e56",
   "metadata": {},
   "outputs": [
    {
     "name": "stdout",
     "output_type": "stream",
     "text": [
      "Cost of Travel Mean: 17741.67033333333\n"
     ]
    },
    {
     "data": {
      "text/html": [
       "<div>\n",
       "<style scoped>\n",
       "    .dataframe tbody tr th:only-of-type {\n",
       "        vertical-align: middle;\n",
       "    }\n",
       "\n",
       "    .dataframe tbody tr th {\n",
       "        vertical-align: top;\n",
       "    }\n",
       "\n",
       "    .dataframe thead th {\n",
       "        text-align: right;\n",
       "    }\n",
       "</style>\n",
       "<table border=\"1\" class=\"dataframe\">\n",
       "  <thead>\n",
       "    <tr style=\"text-align: right;\">\n",
       "      <th></th>\n",
       "      <th>Age</th>\n",
       "      <th>Travel Cost (x1000)</th>\n",
       "    </tr>\n",
       "  </thead>\n",
       "  <tbody>\n",
       "    <tr>\n",
       "      <th>57</th>\n",
       "      <td>75</td>\n",
       "      <td>18.066070</td>\n",
       "    </tr>\n",
       "    <tr>\n",
       "      <th>56</th>\n",
       "      <td>74</td>\n",
       "      <td>17.652821</td>\n",
       "    </tr>\n",
       "    <tr>\n",
       "      <th>55</th>\n",
       "      <td>73</td>\n",
       "      <td>15.706980</td>\n",
       "    </tr>\n",
       "    <tr>\n",
       "      <th>54</th>\n",
       "      <td>72</td>\n",
       "      <td>17.659411</td>\n",
       "    </tr>\n",
       "    <tr>\n",
       "      <th>53</th>\n",
       "      <td>71</td>\n",
       "      <td>16.913774</td>\n",
       "    </tr>\n",
       "  </tbody>\n",
       "</table>\n",
       "</div>"
      ],
      "text/plain": [
       "    Age  Travel Cost (x1000)\n",
       "57   75            18.066070\n",
       "56   74            17.652821\n",
       "55   73            15.706980\n",
       "54   72            17.659411\n",
       "53   71            16.913774"
      ]
     },
     "execution_count": 10,
     "metadata": {},
     "output_type": "execute_result"
    }
   ],
   "source": [
    "age_purchase_power = df.groupby('Age').agg({'Cost of Travel(Entire Trip)': 'mean'})\n",
    "age_purchase_power['Cost of Travel(Entire Trip)'] = age_purchase_power['Cost of Travel(Entire Trip)'] / 1000\n",
    "\n",
    "mean_cost_of_travel = df['Cost of Travel(Entire Trip)'].mean()\n",
    "print('Cost of Travel Mean:',mean_cost_of_travel)\n",
    "age_purchase_power.rename(columns={'Cost of Travel(Entire Trip)': 'Travel Cost (x1000)'}, inplace=True)\n",
    "\n",
    "age_purchase_power.reset_index(inplace=True)\n",
    "\n",
    "age_purchase_power.sort_values(by='Age',ascending=False,inplace=True)\n",
    "age_purchase_power.head()"
   ]
  },
  {
   "cell_type": "markdown",
   "id": "d5b71d7b",
   "metadata": {},
   "source": [
    "## Age vs Number of Tourist vs Travel Cost"
   ]
  },
  {
   "cell_type": "code",
   "execution_count": 130,
   "id": "72bce0f8",
   "metadata": {},
   "outputs": [
    {
     "data": {
      "image/png": "[encoded data removed]",
      "text/plain": [
       "<Figure size 1400x700 with 2 Axes>"
      ]
     },
     "metadata": {},
     "output_type": "display_data"
    },
    {
     "name": "stdout",
     "output_type": "stream",
     "text": [
      "    Age  Number of Individuals  Travel Cost (x1000)\n",
      "0    75                     43            18.066070\n",
      "1    74                     56            17.652821\n",
      "2    73                     50            15.706980\n",
      "3    72                     56            17.659411\n",
      "4    71                     53            16.913774\n",
      "5    70                     58            18.056138\n",
      "6    69                     46            18.421674\n",
      "7    68                     36            16.317861\n",
      "8    67                     45            17.776578\n",
      "9    66                     47            15.893511\n",
      "10   65                     47            17.640851\n",
      "11   64                     41            17.372146\n",
      "12   63                     63            17.474286\n",
      "13   62                     51            16.601588\n",
      "14   61                     54            18.929704\n",
      "15   60                     56            17.960518\n",
      "16   59                     51            16.224314\n",
      "17   58                     49            18.361694\n",
      "18   57                     45            15.675467\n",
      "19   56                     54            18.550167\n",
      "20   55                     47            17.823362\n",
      "21   54                     57            16.309614\n",
      "22   53                     64            16.801172\n",
      "23   52                     54            18.571130\n",
      "24   51                     52            18.598442\n",
      "25   50                     60            17.492800\n",
      "26   49                     50            19.894920\n",
      "27   48                     54            17.953056\n",
      "28   47                     59            16.647525\n",
      "29   46                     52            15.376365\n",
      "30   45                     57            17.041088\n",
      "31   44                     42            21.073905\n",
      "32   43                     54            17.774130\n",
      "33   42                     58            16.144638\n",
      "34   41                     44            19.616205\n",
      "35   40                     53            17.639358\n",
      "36   39                     56            20.846214\n",
      "37   38                     47            21.139574\n",
      "38   37                     47            19.534234\n",
      "39   36                     64            16.563516\n",
      "40   35                     55            17.950836\n",
      "41   34                     53            18.443868\n",
      "42   33                     49            17.751755\n",
      "43   32                     59            17.211814\n",
      "44   31                     56            16.803036\n",
      "45   30                     58            18.456586\n",
      "46   29                     58            19.761379\n",
      "47   28                     45            17.387022\n",
      "48   27                     49            16.553000\n",
      "49   26                     51            17.022569\n",
      "50   25                     38            18.929237\n",
      "51   24                     43            15.243977\n",
      "52   23                     41            18.301707\n",
      "53   22                     58            18.139672\n",
      "54   21                     41            16.910317\n",
      "55   20                     53            16.543170\n",
      "56   19                     63            18.355317\n",
      "57   18                     58            19.613379\n"
     ]
    }
   ],
   "source": [
    "merged_df = pd.merge(age_summary,age_purchase_power, on='Age')\n",
    "\n",
    "\n",
    "merged_df = pd.merge(age_summary, age_purchase_power, on='Age')\n",
    "\n",
    "\n",
    "fig, ax1 = plt.subplots(figsize=(14, 7))\n",
    "\n",
    "\n",
    "ax1.bar(merged_df['Age'], merged_df['Number of Individuals'], color='b', alpha=0.6, label='Number of Individuals')\n",
    "ax1.set_xlabel('Age')\n",
    "ax1.set_ylabel('Number of Individuals', color='b')\n",
    "ax1.tick_params(axis='y', labelcolor='b')\n",
    "\n",
    "\n",
    "ax2 = ax1.twinx()\n",
    "ax2.plot(merged_df['Age'], merged_df['Travel Cost (x1000)'], color='r', marker='o', linestyle='-', linewidth=2, label='Travel Cost (x1000)')\n",
    "ax2.set_ylabel('Travel Cost (x1000)', color='r')\n",
    "ax2.tick_params(axis='y', labelcolor='r')\n",
    "\n",
    "\n",
    "plt.title('Number of Individuals and Cost of Travel by Age')\n",
    "ax1.grid(axis='y')\n",
    "\n",
    "\n",
    "ax1.axhline(y=mean_cost_of_travel / 1000, color='r', linestyle='--', linewidth=2, label=f'Overall Mean Travel Cost: {mean_cost_of_travel:.2f}')\n",
    "\n",
    "\n",
    "\n",
    "fig.tight_layout()\n",
    "ax1.legend(loc='upper left')\n",
    "ax2.legend(loc='upper right')\n",
    "\n",
    "# Show plot\n",
    "plt.show()\n",
    "print(merged_df)\n"
   ]
  },
  {
   "cell_type": "code",
   "execution_count": 31,
   "id": "50696cf9",
   "metadata": {},
   "outputs": [
    {
     "data": {
      "text/html": [
       "<div>\n",
       "<style scoped>\n",
       "    .dataframe tbody tr th:only-of-type {\n",
       "        vertical-align: middle;\n",
       "    }\n",
       "\n",
       "    .dataframe tbody tr th {\n",
       "        vertical-align: top;\n",
       "    }\n",
       "\n",
       "    .dataframe thead th {\n",
       "        text-align: right;\n",
       "    }\n",
       "</style>\n",
       "<table border=\"1\" class=\"dataframe\">\n",
       "  <thead>\n",
       "    <tr style=\"text-align: right;\">\n",
       "      <th></th>\n",
       "      <th>Trip #no.</th>\n",
       "      <th>Duration</th>\n",
       "      <th>Cost of Travel(Entire Trip)</th>\n",
       "      <th>Mode of Travel</th>\n",
       "      <th>Stay</th>\n",
       "      <th>First Name</th>\n",
       "      <th>Last Name</th>\n",
       "      <th>Date of Birth</th>\n",
       "      <th>Address</th>\n",
       "      <th>Age</th>\n",
       "      <th>Sex</th>\n",
       "      <th>Nationality</th>\n",
       "      <th>Date of Travel</th>\n",
       "    </tr>\n",
       "  </thead>\n",
       "  <tbody>\n",
       "    <tr>\n",
       "      <th>0</th>\n",
       "      <td>55</td>\n",
       "      <td>1</td>\n",
       "      <td>20111</td>\n",
       "      <td>Flight</td>\n",
       "      <td>Hotel</td>\n",
       "      <td>Cristina</td>\n",
       "      <td>Fuentes</td>\n",
       "      <td>1914-06-14</td>\n",
       "      <td>5143 Pope Camp Apt. 028\\nLake Emily, UT 71371</td>\n",
       "      <td>74</td>\n",
       "      <td>Non-Binary</td>\n",
       "      <td>Lao People's Democratic Republic</td>\n",
       "      <td>2022-09-13</td>\n",
       "    </tr>\n",
       "    <tr>\n",
       "      <th>1</th>\n",
       "      <td>288</td>\n",
       "      <td>5</td>\n",
       "      <td>29681</td>\n",
       "      <td>Car</td>\n",
       "      <td>Hotel</td>\n",
       "      <td>Patricia</td>\n",
       "      <td>Young</td>\n",
       "      <td>1923-09-25</td>\n",
       "      <td>716 Dominguez Row Suite 775\\nSouth Tiffanyboro...</td>\n",
       "      <td>19</td>\n",
       "      <td>Female</td>\n",
       "      <td>Gabon</td>\n",
       "      <td>2021-09-04</td>\n",
       "    </tr>\n",
       "    <tr>\n",
       "      <th>2</th>\n",
       "      <td>291</td>\n",
       "      <td>7</td>\n",
       "      <td>24950</td>\n",
       "      <td>Flight</td>\n",
       "      <td>Airbnb</td>\n",
       "      <td>Christina</td>\n",
       "      <td>Kirby</td>\n",
       "      <td>1935-01-02</td>\n",
       "      <td>PSC 4600, Box 1237\\nAPO AE 32510</td>\n",
       "      <td>36</td>\n",
       "      <td>Female</td>\n",
       "      <td>Syrian Arab Republic</td>\n",
       "      <td>2021-01-25</td>\n",
       "    </tr>\n",
       "    <tr>\n",
       "      <th>3</th>\n",
       "      <td>131</td>\n",
       "      <td>19</td>\n",
       "      <td>18676</td>\n",
       "      <td>Roadtrip</td>\n",
       "      <td>Airbnb</td>\n",
       "      <td>Michael</td>\n",
       "      <td>Hudson</td>\n",
       "      <td>1982-04-21</td>\n",
       "      <td>7013 Bryant Club Suite 695\\nSouth Tina, WI 26739</td>\n",
       "      <td>38</td>\n",
       "      <td>Non-Binary</td>\n",
       "      <td>Afghanistan</td>\n",
       "      <td>2022-01-28</td>\n",
       "    </tr>\n",
       "    <tr>\n",
       "      <th>4</th>\n",
       "      <td>281</td>\n",
       "      <td>28</td>\n",
       "      <td>18899</td>\n",
       "      <td>Flight</td>\n",
       "      <td>Airbnb</td>\n",
       "      <td>Francisco</td>\n",
       "      <td>Hensley</td>\n",
       "      <td>1913-06-29</td>\n",
       "      <td>074 Scott Brook Suite 700\\nLukeville, VA 46541</td>\n",
       "      <td>38</td>\n",
       "      <td>Non-Binary</td>\n",
       "      <td>Uruguay</td>\n",
       "      <td>2021-10-21</td>\n",
       "    </tr>\n",
       "  </tbody>\n",
       "</table>\n",
       "</div>"
      ],
      "text/plain": [
       "   Trip #no.  Duration  Cost of Travel(Entire Trip) Mode of Travel    Stay  \\\n",
       "0         55         1                        20111         Flight   Hotel   \n",
       "1        288         5                        29681            Car   Hotel   \n",
       "2        291         7                        24950         Flight  Airbnb   \n",
       "3        131        19                        18676       Roadtrip  Airbnb   \n",
       "4        281        28                        18899         Flight  Airbnb   \n",
       "\n",
       "  First Name Last Name Date of Birth  \\\n",
       "0   Cristina   Fuentes    1914-06-14   \n",
       "1   Patricia     Young    1923-09-25   \n",
       "2  Christina     Kirby    1935-01-02   \n",
       "3    Michael    Hudson    1982-04-21   \n",
       "4  Francisco   Hensley    1913-06-29   \n",
       "\n",
       "                                             Address  Age         Sex  \\\n",
       "0      5143 Pope Camp Apt. 028\\nLake Emily, UT 71371   74  Non-Binary   \n",
       "1  716 Dominguez Row Suite 775\\nSouth Tiffanyboro...   19      Female   \n",
       "2                   PSC 4600, Box 1237\\nAPO AE 32510   36      Female   \n",
       "3   7013 Bryant Club Suite 695\\nSouth Tina, WI 26739   38  Non-Binary   \n",
       "4     074 Scott Brook Suite 700\\nLukeville, VA 46541   38  Non-Binary   \n",
       "\n",
       "                        Nationality Date of Travel  \n",
       "0  Lao People's Democratic Republic     2022-09-13  \n",
       "1                             Gabon     2021-09-04  \n",
       "2              Syrian Arab Republic     2021-01-25  \n",
       "3                       Afghanistan     2022-01-28  \n",
       "4                           Uruguay     2021-10-21  "
      ]
     },
     "execution_count": 31,
     "metadata": {},
     "output_type": "execute_result"
    }
   ],
   "source": [
    "df.head()"
   ]
  },
  {
   "cell_type": "markdown",
   "id": "f257f2c4",
   "metadata": {},
   "source": [
    "## Top 10 spenders by age"
   ]
  },
  {
   "cell_type": "code",
   "execution_count": 47,
   "id": "8bfc5894",
   "metadata": {},
   "outputs": [
    {
     "name": "stdout",
     "output_type": "stream",
     "text": [
      "Cost of Travel Mean: 17741.67033333333\n"
     ]
    },
    {
     "data": {
      "text/html": [
       "<div>\n",
       "<style scoped>\n",
       "    .dataframe tbody tr th:only-of-type {\n",
       "        vertical-align: middle;\n",
       "    }\n",
       "\n",
       "    .dataframe tbody tr th {\n",
       "        vertical-align: top;\n",
       "    }\n",
       "\n",
       "    .dataframe thead th {\n",
       "        text-align: right;\n",
       "    }\n",
       "</style>\n",
       "<table border=\"1\" class=\"dataframe\">\n",
       "  <thead>\n",
       "    <tr style=\"text-align: right;\">\n",
       "      <th></th>\n",
       "      <th>Age</th>\n",
       "      <th>Travel Cost (x1000)</th>\n",
       "      <th>Number of Individuals</th>\n",
       "    </tr>\n",
       "  </thead>\n",
       "  <tbody>\n",
       "    <tr>\n",
       "      <th>20</th>\n",
       "      <td>38</td>\n",
       "      <td>21.139574</td>\n",
       "      <td>47</td>\n",
       "    </tr>\n",
       "    <tr>\n",
       "      <th>26</th>\n",
       "      <td>44</td>\n",
       "      <td>21.073905</td>\n",
       "      <td>42</td>\n",
       "    </tr>\n",
       "    <tr>\n",
       "      <th>21</th>\n",
       "      <td>39</td>\n",
       "      <td>20.846214</td>\n",
       "      <td>56</td>\n",
       "    </tr>\n",
       "    <tr>\n",
       "      <th>31</th>\n",
       "      <td>49</td>\n",
       "      <td>19.894920</td>\n",
       "      <td>50</td>\n",
       "    </tr>\n",
       "    <tr>\n",
       "      <th>11</th>\n",
       "      <td>29</td>\n",
       "      <td>19.761379</td>\n",
       "      <td>58</td>\n",
       "    </tr>\n",
       "    <tr>\n",
       "      <th>23</th>\n",
       "      <td>41</td>\n",
       "      <td>19.616205</td>\n",
       "      <td>44</td>\n",
       "    </tr>\n",
       "    <tr>\n",
       "      <th>0</th>\n",
       "      <td>18</td>\n",
       "      <td>19.613379</td>\n",
       "      <td>58</td>\n",
       "    </tr>\n",
       "    <tr>\n",
       "      <th>19</th>\n",
       "      <td>37</td>\n",
       "      <td>19.534234</td>\n",
       "      <td>47</td>\n",
       "    </tr>\n",
       "    <tr>\n",
       "      <th>43</th>\n",
       "      <td>61</td>\n",
       "      <td>18.929704</td>\n",
       "      <td>54</td>\n",
       "    </tr>\n",
       "    <tr>\n",
       "      <th>7</th>\n",
       "      <td>25</td>\n",
       "      <td>18.929237</td>\n",
       "      <td>38</td>\n",
       "    </tr>\n",
       "  </tbody>\n",
       "</table>\n",
       "</div>"
      ],
      "text/plain": [
       "    Age  Travel Cost (x1000)  Number of Individuals\n",
       "20   38            21.139574                     47\n",
       "26   44            21.073905                     42\n",
       "21   39            20.846214                     56\n",
       "31   49            19.894920                     50\n",
       "11   29            19.761379                     58\n",
       "23   41            19.616205                     44\n",
       "0    18            19.613379                     58\n",
       "19   37            19.534234                     47\n",
       "43   61            18.929704                     54\n",
       "7    25            18.929237                     38"
      ]
     },
     "execution_count": 47,
     "metadata": {},
     "output_type": "execute_result"
    }
   ],
   "source": [
    "age_spender = df.groupby('Age').agg({'Cost of Travel(Entire Trip)': 'mean'})\n",
    "age_spender['Cost of Travel(Entire Trip)'] = age_spender['Cost of Travel(Entire Trip)'] / 1000\n",
    "\n",
    "mean_cost_of_travel = df['Cost of Travel(Entire Trip)'].mean()\n",
    "print('Cost of Travel Mean:',mean_cost_of_travel)\n",
    "age_spender.rename(columns={'Cost of Travel(Entire Trip)': 'Travel Cost (x1000)'}, inplace=True)\n",
    "\n",
    "age_spender.reset_index(inplace=True)\n",
    "\n",
    "age_spender = pd.merge(age_spender, age_summary, on='Age')\n",
    "\n",
    "age_spender.sort_values(by='Travel Cost (x1000)',ascending=False,inplace=True)\n",
    "\n",
    "age_spender.head(10)"
   ]
  },
  {
   "cell_type": "markdown",
   "id": "e2239bed",
   "metadata": {},
   "source": [
    "## Top 5 Spenders by age perference in:\n",
    "\n",
    "### Mode of Travel\n",
    "\n",
    "### Stay"
   ]
  },
  {
   "cell_type": "code",
   "execution_count": 42,
   "id": "6c5ef01d",
   "metadata": {},
   "outputs": [
    {
     "data": {
      "text/plain": [
       "Mode of Travel\n",
       "Car         14\n",
       "Roadtrip     7\n",
       "Flight       7\n",
       "Cruise       7\n",
       "Bus          6\n",
       "Train        6\n",
       "Name: count, dtype: int64"
      ]
     },
     "execution_count": 42,
     "metadata": {},
     "output_type": "execute_result"
    }
   ],
   "source": [
    "age_38_df = df[df['Age']==38]\n",
    "travel_38 = age_38_df['Mode of Travel'].value_counts()\n",
    "\n",
    "travel_38"
   ]
  },
  {
   "cell_type": "code",
   "execution_count": 48,
   "id": "87c63c59",
   "metadata": {},
   "outputs": [
    {
     "name": "stdout",
     "output_type": "stream",
     "text": [
      "    Age Mode of Travel  Count\n",
      "2    18         Cruise     14\n",
      "10   25       Roadtrip      9\n",
      "16   29       Roadtrip     17\n",
      "18   37            Bus     11\n",
      "25   38            Car     14\n",
      "32   39         Cruise     12\n",
      "37   41            Car     12\n",
      "44   44         Cruise     12\n",
      "51   49         Flight     13\n",
      "54   61            Bus     10\n"
     ]
    }
   ],
   "source": [
    "top5_age = df[df['Age'].isin([38,44,39,49,29,41,18,37,61,25])]\n",
    "\n",
    "grouped_counts = top5_age.groupby(['Age', 'Mode of Travel']).size().reset_index(name='Count')\n",
    "\n",
    "\n",
    "idx = grouped_counts.groupby('Age')['Count'].idxmax()\n",
    "most_common_travel_mode = grouped_counts.loc[idx]\n",
    "\n",
    "\n",
    "print(most_common_travel_mode)"
   ]
  },
  {
   "cell_type": "code",
   "execution_count": 49,
   "id": "dcaad369",
   "metadata": {},
   "outputs": [
    {
     "data": {
      "text/plain": [
       "Stay\n",
       "Resorts    15\n",
       "Airbnb     11\n",
       "Other      11\n",
       "Hotel      10\n",
       "Name: count, dtype: int64"
      ]
     },
     "execution_count": 49,
     "metadata": {},
     "output_type": "execute_result"
    }
   ],
   "source": [
    "age_38_df = df[df['Age']==38]\n",
    "travel_38 = age_38_df['Stay'].value_counts()\n",
    "\n",
    "travel_38"
   ]
  },
  {
   "cell_type": "code",
   "execution_count": 50,
   "id": "032c1b2d",
   "metadata": {},
   "outputs": [
    {
     "name": "stdout",
     "output_type": "stream",
     "text": [
      "    Age     Stay  Count\n",
      "0    18   Airbnb     17\n",
      "5    25    Hotel     14\n",
      "8    29   Airbnb     20\n",
      "12   37   Airbnb     16\n",
      "19   38  Resorts     15\n",
      "20   39   Airbnb     18\n",
      "24   41   Airbnb     12\n",
      "30   44    Other     14\n",
      "32   49   Airbnb     15\n",
      "36   61   Airbnb     16\n"
     ]
    }
   ],
   "source": [
    "\n",
    "grouped_counts = top5_age.groupby(['Age', 'Stay']).size().reset_index(name='Count')\n",
    "\n",
    "\n",
    "idx = grouped_counts.groupby('Age')['Count'].idxmax()\n",
    "most_common_stay = grouped_counts.loc[idx]\n",
    "\n",
    "\n",
    "print(most_common_stay)"
   ]
  },
  {
   "cell_type": "markdown",
   "id": "f492d283",
   "metadata": {},
   "source": [
    "## Dates\n",
    "\n",
    "### Quartely by year"
   ]
  },
  {
   "cell_type": "code",
   "execution_count": 51,
   "id": "089f97f1",
   "metadata": {},
   "outputs": [
    {
     "data": {
      "text/plain": [
       "0      2022-09-13\n",
       "1      2021-09-04\n",
       "2      2021-01-25\n",
       "3      2022-01-28\n",
       "4      2021-10-21\n",
       "          ...    \n",
       "2995   2023-07-03\n",
       "2996   2022-08-22\n",
       "2997   2021-02-08\n",
       "2998   2021-06-19\n",
       "2999   2021-08-07\n",
       "Name: Date of Travel, Length: 3000, dtype: datetime64[ns]"
      ]
     },
     "execution_count": 51,
     "metadata": {},
     "output_type": "execute_result"
    }
   ],
   "source": [
    "df['Date of Travel'] = pd.to_datetime(df['Date of Travel'])\n",
    "df['Date of Travel']"
   ]
  },
  {
   "cell_type": "code",
   "execution_count": 56,
   "id": "86333bc0",
   "metadata": {},
   "outputs": [
    {
     "data": {
      "text/html": [
       "<div>\n",
       "<style scoped>\n",
       "    .dataframe tbody tr th:only-of-type {\n",
       "        vertical-align: middle;\n",
       "    }\n",
       "\n",
       "    .dataframe tbody tr th {\n",
       "        vertical-align: top;\n",
       "    }\n",
       "\n",
       "    .dataframe thead th {\n",
       "        text-align: right;\n",
       "    }\n",
       "</style>\n",
       "<table border=\"1\" class=\"dataframe\">\n",
       "  <thead>\n",
       "    <tr style=\"text-align: right;\">\n",
       "      <th></th>\n",
       "      <th>Month</th>\n",
       "      <th>Year</th>\n",
       "    </tr>\n",
       "  </thead>\n",
       "  <tbody>\n",
       "    <tr>\n",
       "      <th>0</th>\n",
       "      <td>9</td>\n",
       "      <td>2022</td>\n",
       "    </tr>\n",
       "    <tr>\n",
       "      <th>1</th>\n",
       "      <td>9</td>\n",
       "      <td>2021</td>\n",
       "    </tr>\n",
       "    <tr>\n",
       "      <th>2</th>\n",
       "      <td>1</td>\n",
       "      <td>2021</td>\n",
       "    </tr>\n",
       "    <tr>\n",
       "      <th>3</th>\n",
       "      <td>1</td>\n",
       "      <td>2022</td>\n",
       "    </tr>\n",
       "    <tr>\n",
       "      <th>4</th>\n",
       "      <td>10</td>\n",
       "      <td>2021</td>\n",
       "    </tr>\n",
       "    <tr>\n",
       "      <th>...</th>\n",
       "      <td>...</td>\n",
       "      <td>...</td>\n",
       "    </tr>\n",
       "    <tr>\n",
       "      <th>2995</th>\n",
       "      <td>7</td>\n",
       "      <td>2023</td>\n",
       "    </tr>\n",
       "    <tr>\n",
       "      <th>2996</th>\n",
       "      <td>8</td>\n",
       "      <td>2022</td>\n",
       "    </tr>\n",
       "    <tr>\n",
       "      <th>2997</th>\n",
       "      <td>2</td>\n",
       "      <td>2021</td>\n",
       "    </tr>\n",
       "    <tr>\n",
       "      <th>2998</th>\n",
       "      <td>6</td>\n",
       "      <td>2021</td>\n",
       "    </tr>\n",
       "    <tr>\n",
       "      <th>2999</th>\n",
       "      <td>8</td>\n",
       "      <td>2021</td>\n",
       "    </tr>\n",
       "  </tbody>\n",
       "</table>\n",
       "<p>3000 rows × 2 columns</p>\n",
       "</div>"
      ],
      "text/plain": [
       "      Month  Year\n",
       "0         9  2022\n",
       "1         9  2021\n",
       "2         1  2021\n",
       "3         1  2022\n",
       "4        10  2021\n",
       "...     ...   ...\n",
       "2995      7  2023\n",
       "2996      8  2022\n",
       "2997      2  2021\n",
       "2998      6  2021\n",
       "2999      8  2021\n",
       "\n",
       "[3000 rows x 2 columns]"
      ]
     },
     "execution_count": 56,
     "metadata": {},
     "output_type": "execute_result"
    }
   ],
   "source": [
    "df['Month'] = df['Date of Travel'].dt.month\n",
    "df['Year'] = df['Date of Travel'].dt.year\n",
    "df[['Month','Year']]"
   ]
  },
  {
   "cell_type": "code",
   "execution_count": 57,
   "id": "d445df95",
   "metadata": {},
   "outputs": [
    {
     "name": "stdout",
     "output_type": "stream",
     "text": [
      "Minimum Date of Travel: 2020-01-02 00:00:00\n",
      "Maximum Date of Travel: 2023-08-27 00:00:00\n"
     ]
    }
   ],
   "source": [
    "min_date = df['Date of Travel'].min()\n",
    "max_date = df['Date of Travel'].max()\n",
    "\n",
    "print(\"Minimum Date of Travel:\", min_date)\n",
    "print(\"Maximum Date of Travel:\", max_date)"
   ]
  },
  {
   "cell_type": "markdown",
   "id": "7a0120b4",
   "metadata": {},
   "source": [
    "### 2021-2023 (Q3)"
   ]
  },
  {
   "cell_type": "code",
   "execution_count": 115,
   "id": "63994132",
   "metadata": {},
   "outputs": [
    {
     "name": "stdout",
     "output_type": "stream",
     "text": [
      "Entries in 2020Q1: 192\n",
      "Entries in 2020Q2: 190\n",
      "Entries in 2020Q3: 223\n",
      "Entries in 2020Q4: 217\n",
      "Entries in 2021Q1: 201\n",
      "Entries in 2021Q2: 196\n",
      "Entries in 2021Q3: 184\n",
      "Entries in 2021Q4: 214\n",
      "Entries in 2022Q1: 214\n",
      "Entries in 2022Q2: 204\n",
      "Entries in 2022Q3: 204\n",
      "Entries in 2022Q4: 209\n",
      "Entries in 2023Q1: 194\n",
      "Entries in 2023Q2: 224\n",
      "Entries in 2023Q3: 134\n",
      "Entries in 2023Q4: 0\n",
      "Average Cost in 2020Q1: 18119.619791666668\n",
      "Average Cost in 2020Q2: 17509.178947368422\n",
      "Average Cost in 2020Q3: 17752.991031390135\n",
      "Average Cost in 2020Q4: 17605.00921658986\n",
      "Average Cost in 2021Q1: 17824.02487562189\n",
      "Average Cost in 2021Q2: 17994.561224489797\n",
      "Average Cost in 2021Q3: 17184.184782608696\n",
      "Average Cost in 2021Q4: 17768.81308411215\n",
      "Average Cost in 2022Q1: 18093.406542056076\n",
      "Average Cost in 2022Q2: 17544.950980392157\n",
      "Average Cost in 2022Q3: 17240.289215686276\n",
      "Average Cost in 2022Q4: 18254.58851674641\n",
      "Average Cost in 2023Q1: 17838.896907216495\n",
      "Average Cost in 2023Q2: 17693.691964285714\n",
      "Average Cost in 2023Q3: 17601.47014925373\n",
      "Average Cost in 2023Q4: nan\n"
     ]
    }
   ],
   "source": [
    "df['Quarter'] = df['Date of Travel'].dt.to_period('Q')\n",
    "\n",
    "year_range = range(2020, 2024)\n",
    "quarter_counts = {}\n",
    "quarter_avg_costs = {}\n",
    "\n",
    "# Iterate through each year and quarter\n",
    "for year in year_range:\n",
    "    for quarter in [f\"{year}Q1\", f\"{year}Q2\", f\"{year}Q3\", f\"{year}Q4\"]:\n",
    "        filtered_df = df[df['Quarter'] == quarter]\n",
    "        quarter_count = filtered_df.shape[0]\n",
    "        quarter_counts[quarter] = quarter_count\n",
    "        \n",
    "        avg_cost = filtered_df['Cost of Travel(Entire Trip)'].mean()\n",
    "        quarter_avg_costs[quarter] = avg_cost\n",
    "\n",
    "# Print the results\n",
    "for quarter, count in quarter_counts.items():\n",
    "    print(f\"Entries in {quarter}: {count}\")\n",
    "    \n",
    "for quarter, avg_cost in quarter_avg_costs.items():\n",
    "    print(f\"Average Cost in {quarter}: {avg_cost}\")"
   ]
  },
  {
   "cell_type": "markdown",
   "id": "e77c13f6",
   "metadata": {},
   "source": [
    "### 2021-2023 (Q3) plot"
   ]
  },
  {
   "cell_type": "code",
   "execution_count": 125,
   "id": "798c62b5",
   "metadata": {},
   "outputs": [
    {
     "data": {
      "image/png": "[encoded data removed]",
      "text/plain": [
       "<Figure size 1500x1000 with 2 Axes>"
      ]
     },
     "metadata": {},
     "output_type": "display_data"
    }
   ],
   "source": [
    "\n",
    "fig, ax1 = plt.subplots(figsize=(15, 10))\n",
    "\n",
    "\n",
    "ax1.bar(quarter_counts.keys(), quarter_counts.values(), color='skyblue')\n",
    "ax1.set_title('Number of Tourists vs. Average Travel Cost by Quarter')\n",
    "ax1.set_xlabel('Quarter')\n",
    "ax1.set_ylabel('Count')\n",
    "\n",
    "\n",
    "ax2 = ax1.twinx()\n",
    "ax2.plot(quarter_avg_costs.keys(), quarter_avg_costs.values(), marker='o', color='orange', linestyle='-')\n",
    "#ax2.set_title('Average Cost of Travel per Quarter')\n",
    "ax2.set_xlabel('Quarter')\n",
    "ax2.set_ylabel('Average Travel Cost')\n",
    "\n",
    "plt.grid(axis='y')\n",
    "plt.tight_layout()\n",
    "plt.show()\n",
    "\n",
    "\n"
   ]
  },
  {
   "cell_type": "code",
   "execution_count": 126,
   "id": "772d7a5f",
   "metadata": {},
   "outputs": [
    {
     "name": "stdout",
     "output_type": "stream",
     "text": [
      "<class 'pandas.core.frame.DataFrame'>\n",
      "RangeIndex: 3000 entries, 0 to 2999\n",
      "Data columns (total 16 columns):\n",
      " #   Column                       Non-Null Count  Dtype         \n",
      "---  ------                       --------------  -----         \n",
      " 0   Trip #no.                    3000 non-null   int64         \n",
      " 1   Duration                     3000 non-null   int64         \n",
      " 2   Cost of Travel(Entire Trip)  3000 non-null   int64         \n",
      " 3   Mode of Travel               3000 non-null   object        \n",
      " 4   Stay                         3000 non-null   object        \n",
      " 5   First Name                   3000 non-null   object        \n",
      " 6   Last Name                    3000 non-null   object        \n",
      " 7   Date of Birth                3000 non-null   object        \n",
      " 8   Address                      3000 non-null   object        \n",
      " 9   Age                          3000 non-null   int64         \n",
      " 10  Sex                          3000 non-null   object        \n",
      " 11  Nationality                  3000 non-null   object        \n",
      " 12  Date of Travel               3000 non-null   datetime64[ns]\n",
      " 13  Month                        3000 non-null   int32         \n",
      " 14  Year                         3000 non-null   int32         \n",
      " 15  Quarter                      3000 non-null   period[Q-DEC] \n",
      "dtypes: datetime64[ns](1), int32(2), int64(4), object(8), period[Q-DEC](1)\n",
      "memory usage: 351.7+ KB\n"
     ]
    }
   ],
   "source": [
    "df.info()"
   ]
  },
  {
   "cell_type": "markdown",
   "id": "a780a53c",
   "metadata": {},
   "source": [
    "### Heat Map\n",
    "\n",
    "#### Duration - Cost of Travel - Age"
   ]
  },
  {
   "cell_type": "code",
   "execution_count": 127,
   "id": "a6c7bf7f",
   "metadata": {},
   "outputs": [
    {
     "data": {
      "text/plain": [
       "['Trip #no.', 'Duration', 'Cost of Travel(Entire Trip)', 'Age']"
      ]
     },
     "execution_count": 127,
     "metadata": {},
     "output_type": "execute_result"
    }
   ],
   "source": [
    "numerical_cols = [col for col in df.columns if df[col].dtype in ['int64']]\n",
    "numerical_cols"
   ]
  },
  {
   "cell_type": "code",
   "execution_count": 128,
   "id": "63aa230f",
   "metadata": {},
   "outputs": [
    {
     "data": {
      "image/png": "[encoded data removed]",
      "text/plain": [
       "<Figure size 1000x800 with 2 Axes>"
      ]
     },
     "metadata": {},
     "output_type": "display_data"
    }
   ],
   "source": [
    "correlation_matrix = df[numerical_cols].corr()\n",
    "\n",
    "\n",
    "plt.figure(figsize=(10, 8))\n",
    "sns.heatmap(correlation_matrix, annot=True, linewidths=0.5)\n",
    "plt.title('Correlation Heatmap')\n",
    "plt.show()"
   ]
  },
  {
   "cell_type": "code",
   "execution_count": null,
   "id": "a8656c75",
   "metadata": {},
   "outputs": [],
   "source": []
  },
  {
   "cell_type": "code",
   "execution_count": null,
   "id": "6239337c",
   "metadata": {},
   "outputs": [],
   "source": []
  }
 ],
 "metadata": {
  "kernelspec": {
   "display_name": "Python 3 (ipykernel)",
   "language": "python",
   "name": "python3"
  },
  "language_info": {
   "codemirror_mode": {
    "name": "ipython",
    "version": 3
   },
   "file_extension": ".py",
   "mimetype": "text/x-python",
   "name": "python",
   "nbconvert_exporter": "python",
   "pygments_lexer": "ipython3",
   "version": "3.11.5"
  }
 },
 "nbformat": 4,
 "nbformat_minor": 5
}
