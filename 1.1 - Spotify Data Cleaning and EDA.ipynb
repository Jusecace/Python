{
 "cells": [
  {
   "cell_type": "markdown",
   "id": "59b9beea",
   "metadata": {},
   "source": [
    "# EDA in Pandas"
   ]
  },
  {
   "cell_type": "code",
   "execution_count": 74,
   "id": "5bd5ead8",
   "metadata": {},
   "outputs": [],
   "source": [
    "#Packages needed to load before starting Data Cleaning process\n",
    "\n",
    "import pandas as pd\n",
    "import seaborn as sns\n",
    "import matplotlib.pyplot as plt\n",
    "import numpy as np\n",
    "import chardet"
   ]
  },
  {
   "cell_type": "code",
   "execution_count": 75,
   "id": "a165ff06",
   "metadata": {},
   "outputs": [
    {
     "data": {
      "text/html": [
       "<div>\n",
       "<style scoped>\n",
       "    .dataframe tbody tr th:only-of-type {\n",
       "        vertical-align: middle;\n",
       "    }\n",
       "\n",
       "    .dataframe tbody tr th {\n",
       "        vertical-align: top;\n",
       "    }\n",
       "\n",
       "    .dataframe thead th {\n",
       "        text-align: right;\n",
       "    }\n",
       "</style>\n",
       "<table border=\"1\" class=\"dataframe\">\n",
       "  <thead>\n",
       "    <tr style=\"text-align: right;\">\n",
       "      <th></th>\n",
       "      <th>Track</th>\n",
       "      <th>Album Name</th>\n",
       "      <th>Artist</th>\n",
       "      <th>Release Date</th>\n",
       "      <th>ISRC</th>\n",
       "      <th>All Time Rank</th>\n",
       "      <th>Track Score</th>\n",
       "      <th>Spotify Streams</th>\n",
       "      <th>Spotify Playlist Count</th>\n",
       "      <th>Spotify Playlist Reach</th>\n",
       "      <th>...</th>\n",
       "      <th>SiriusXM Spins</th>\n",
       "      <th>Deezer Playlist Count</th>\n",
       "      <th>Deezer Playlist Reach</th>\n",
       "      <th>Amazon Playlist Count</th>\n",
       "      <th>Pandora Streams</th>\n",
       "      <th>Pandora Track Stations</th>\n",
       "      <th>Soundcloud Streams</th>\n",
       "      <th>Shazam Counts</th>\n",
       "      <th>TIDAL Popularity</th>\n",
       "      <th>Explicit Track</th>\n",
       "    </tr>\n",
       "  </thead>\n",
       "  <tbody>\n",
       "    <tr>\n",
       "      <th>0</th>\n",
       "      <td>MILLION DOLLAR BABY</td>\n",
       "      <td>Million Dollar Baby - Single</td>\n",
       "      <td>Tommy Richman</td>\n",
       "      <td>4/26/2024</td>\n",
       "      <td>QM24S2402528</td>\n",
       "      <td>1</td>\n",
       "      <td>725.4</td>\n",
       "      <td>390,470,936</td>\n",
       "      <td>30,716</td>\n",
       "      <td>196,631,588</td>\n",
       "      <td>...</td>\n",
       "      <td>684</td>\n",
       "      <td>62.0</td>\n",
       "      <td>17,598,718</td>\n",
       "      <td>114.0</td>\n",
       "      <td>18,004,655</td>\n",
       "      <td>22,931</td>\n",
       "      <td>4,818,457</td>\n",
       "      <td>2,669,262</td>\n",
       "      <td>NaN</td>\n",
       "      <td>0</td>\n",
       "    </tr>\n",
       "    <tr>\n",
       "      <th>1</th>\n",
       "      <td>Not Like Us</td>\n",
       "      <td>Not Like Us</td>\n",
       "      <td>Kendrick Lamar</td>\n",
       "      <td>5/4/2024</td>\n",
       "      <td>USUG12400910</td>\n",
       "      <td>2</td>\n",
       "      <td>545.9</td>\n",
       "      <td>323,703,884</td>\n",
       "      <td>28,113</td>\n",
       "      <td>174,597,137</td>\n",
       "      <td>...</td>\n",
       "      <td>3</td>\n",
       "      <td>67.0</td>\n",
       "      <td>10,422,430</td>\n",
       "      <td>111.0</td>\n",
       "      <td>7,780,028</td>\n",
       "      <td>28,444</td>\n",
       "      <td>6,623,075</td>\n",
       "      <td>1,118,279</td>\n",
       "      <td>NaN</td>\n",
       "      <td>1</td>\n",
       "    </tr>\n",
       "    <tr>\n",
       "      <th>2</th>\n",
       "      <td>i like the way you kiss me</td>\n",
       "      <td>I like the way you kiss me</td>\n",
       "      <td>Artemas</td>\n",
       "      <td>3/19/2024</td>\n",
       "      <td>QZJ842400387</td>\n",
       "      <td>3</td>\n",
       "      <td>538.4</td>\n",
       "      <td>601,309,283</td>\n",
       "      <td>54,331</td>\n",
       "      <td>211,607,669</td>\n",
       "      <td>...</td>\n",
       "      <td>536</td>\n",
       "      <td>136.0</td>\n",
       "      <td>36,321,847</td>\n",
       "      <td>172.0</td>\n",
       "      <td>5,022,621</td>\n",
       "      <td>5,639</td>\n",
       "      <td>7,208,651</td>\n",
       "      <td>5,285,340</td>\n",
       "      <td>NaN</td>\n",
       "      <td>0</td>\n",
       "    </tr>\n",
       "    <tr>\n",
       "      <th>3</th>\n",
       "      <td>Flowers</td>\n",
       "      <td>Flowers - Single</td>\n",
       "      <td>Miley Cyrus</td>\n",
       "      <td>1/12/2023</td>\n",
       "      <td>USSM12209777</td>\n",
       "      <td>4</td>\n",
       "      <td>444.9</td>\n",
       "      <td>2,031,280,633</td>\n",
       "      <td>269,802</td>\n",
       "      <td>136,569,078</td>\n",
       "      <td>...</td>\n",
       "      <td>2,182</td>\n",
       "      <td>264.0</td>\n",
       "      <td>24,684,248</td>\n",
       "      <td>210.0</td>\n",
       "      <td>190,260,277</td>\n",
       "      <td>203,384</td>\n",
       "      <td>NaN</td>\n",
       "      <td>11,822,942</td>\n",
       "      <td>NaN</td>\n",
       "      <td>0</td>\n",
       "    </tr>\n",
       "    <tr>\n",
       "      <th>4</th>\n",
       "      <td>Houdini</td>\n",
       "      <td>Houdini</td>\n",
       "      <td>Eminem</td>\n",
       "      <td>5/31/2024</td>\n",
       "      <td>USUG12403398</td>\n",
       "      <td>5</td>\n",
       "      <td>423.3</td>\n",
       "      <td>107,034,922</td>\n",
       "      <td>7,223</td>\n",
       "      <td>151,469,874</td>\n",
       "      <td>...</td>\n",
       "      <td>1</td>\n",
       "      <td>82.0</td>\n",
       "      <td>17,660,624</td>\n",
       "      <td>105.0</td>\n",
       "      <td>4,493,884</td>\n",
       "      <td>7,006</td>\n",
       "      <td>207,179</td>\n",
       "      <td>457,017</td>\n",
       "      <td>NaN</td>\n",
       "      <td>1</td>\n",
       "    </tr>\n",
       "  </tbody>\n",
       "</table>\n",
       "<p>5 rows × 29 columns</p>\n",
       "</div>"
      ],
      "text/plain": [
       "                        Track                    Album Name          Artist  \\\n",
       "0         MILLION DOLLAR BABY  Million Dollar Baby - Single   Tommy Richman   \n",
       "1                 Not Like Us                   Not Like Us  Kendrick Lamar   \n",
       "2  i like the way you kiss me    I like the way you kiss me         Artemas   \n",
       "3                     Flowers              Flowers - Single     Miley Cyrus   \n",
       "4                     Houdini                       Houdini          Eminem   \n",
       "\n",
       "  Release Date          ISRC All Time Rank  Track Score Spotify Streams  \\\n",
       "0    4/26/2024  QM24S2402528             1        725.4     390,470,936   \n",
       "1     5/4/2024  USUG12400910             2        545.9     323,703,884   \n",
       "2    3/19/2024  QZJ842400387             3        538.4     601,309,283   \n",
       "3    1/12/2023  USSM12209777             4        444.9   2,031,280,633   \n",
       "4    5/31/2024  USUG12403398             5        423.3     107,034,922   \n",
       "\n",
       "  Spotify Playlist Count Spotify Playlist Reach  ...  SiriusXM Spins  \\\n",
       "0                 30,716            196,631,588  ...             684   \n",
       "1                 28,113            174,597,137  ...               3   \n",
       "2                 54,331            211,607,669  ...             536   \n",
       "3                269,802            136,569,078  ...           2,182   \n",
       "4                  7,223            151,469,874  ...               1   \n",
       "\n",
       "  Deezer Playlist Count Deezer Playlist Reach Amazon Playlist Count  \\\n",
       "0                  62.0            17,598,718                 114.0   \n",
       "1                  67.0            10,422,430                 111.0   \n",
       "2                 136.0            36,321,847                 172.0   \n",
       "3                 264.0            24,684,248                 210.0   \n",
       "4                  82.0            17,660,624                 105.0   \n",
       "\n",
       "  Pandora Streams Pandora Track Stations Soundcloud Streams  Shazam Counts  \\\n",
       "0      18,004,655                 22,931          4,818,457      2,669,262   \n",
       "1       7,780,028                 28,444          6,623,075      1,118,279   \n",
       "2       5,022,621                  5,639          7,208,651      5,285,340   \n",
       "3     190,260,277                203,384                NaN     11,822,942   \n",
       "4       4,493,884                  7,006            207,179        457,017   \n",
       "\n",
       "  TIDAL Popularity Explicit Track  \n",
       "0              NaN              0  \n",
       "1              NaN              1  \n",
       "2              NaN              0  \n",
       "3              NaN              0  \n",
       "4              NaN              1  \n",
       "\n",
       "[5 rows x 29 columns]"
      ]
     },
     "execution_count": 75,
     "metadata": {},
     "output_type": "execute_result"
    }
   ],
   "source": [
    "# since I am using a file in my local drive, I used this expression to open according the enconding done\n",
    "\n",
    "file_path = r\"C:\\Users\\Juan.Cardenas\\Documents\\Python Scripts\\EDA project\\Most Streamed Spotify Songs 2024.csv\"\n",
    "# Detect the encoding\n",
    "with open(file_path, 'rb') as f:\n",
    "    result = chardet.detect(f.read())\n",
    "\n",
    "encoding = result['encoding']\n",
    "\n",
    "# Read the CSV with the detected encoding\n",
    "df = pd.read_csv(file_path, encoding=encoding)\n",
    "\n",
    "df.head()\n"
   ]
  },
  {
   "cell_type": "code",
   "execution_count": 76,
   "id": "b515142e",
   "metadata": {},
   "outputs": [],
   "source": [
    "#this is to set 1 decimal numbers after the point.\n",
    "pd.set_option('display.float_format', lambda x: '%.1f' % x)"
   ]
  },
  {
   "cell_type": "code",
   "execution_count": 77,
   "id": "3a90dd48",
   "metadata": {},
   "outputs": [
    {
     "name": "stdout",
     "output_type": "stream",
     "text": [
      "<class 'pandas.core.frame.DataFrame'>\n",
      "RangeIndex: 4600 entries, 0 to 4599\n",
      "Data columns (total 29 columns):\n",
      " #   Column                      Non-Null Count  Dtype  \n",
      "---  ------                      --------------  -----  \n",
      " 0   Track                       4600 non-null   object \n",
      " 1   Album Name                  4600 non-null   object \n",
      " 2   Artist                      4595 non-null   object \n",
      " 3   Release Date                4600 non-null   object \n",
      " 4   ISRC                        4600 non-null   object \n",
      " 5   All Time Rank               4600 non-null   object \n",
      " 6   Track Score                 4600 non-null   float64\n",
      " 7   Spotify Streams             4487 non-null   object \n",
      " 8   Spotify Playlist Count      4530 non-null   object \n",
      " 9   Spotify Playlist Reach      4528 non-null   object \n",
      " 10  Spotify Popularity          3796 non-null   float64\n",
      " 11  YouTube Views               4292 non-null   object \n",
      " 12  YouTube Likes               4285 non-null   object \n",
      " 13  TikTok Posts                3427 non-null   object \n",
      " 14  TikTok Likes                3620 non-null   object \n",
      " 15  TikTok Views                3619 non-null   object \n",
      " 16  YouTube Playlist Reach      3591 non-null   object \n",
      " 17  Apple Music Playlist Count  4039 non-null   float64\n",
      " 18  AirPlay Spins               4102 non-null   object \n",
      " 19  SiriusXM Spins              2477 non-null   object \n",
      " 20  Deezer Playlist Count       3679 non-null   float64\n",
      " 21  Deezer Playlist Reach       3672 non-null   object \n",
      " 22  Amazon Playlist Count       3545 non-null   float64\n",
      " 23  Pandora Streams             3494 non-null   object \n",
      " 24  Pandora Track Stations      3332 non-null   object \n",
      " 25  Soundcloud Streams          1267 non-null   object \n",
      " 26  Shazam Counts               4023 non-null   object \n",
      " 27  TIDAL Popularity            0 non-null      float64\n",
      " 28  Explicit Track              4600 non-null   int64  \n",
      "dtypes: float64(6), int64(1), object(22)\n",
      "memory usage: 1.0+ MB\n"
     ]
    }
   ],
   "source": [
    "df.info()"
   ]
  },
  {
   "cell_type": "markdown",
   "id": "8d214954",
   "metadata": {},
   "source": [
    "# Data Cleaning"
   ]
  },
  {
   "cell_type": "markdown",
   "id": "9f2bf4a5",
   "metadata": {},
   "source": [
    "### Identify NaN in each Column of the original Data Frame.\n",
    "### Create a new DataFrame with all the NaN values\n",
    "\n"
   ]
  },
  {
   "cell_type": "code",
   "execution_count": 78,
   "id": "dda2cadb",
   "metadata": {},
   "outputs": [
    {
     "data": {
      "text/html": [
       "<div>\n",
       "<style scoped>\n",
       "    .dataframe tbody tr th:only-of-type {\n",
       "        vertical-align: middle;\n",
       "    }\n",
       "\n",
       "    .dataframe tbody tr th {\n",
       "        vertical-align: top;\n",
       "    }\n",
       "\n",
       "    .dataframe thead th {\n",
       "        text-align: right;\n",
       "    }\n",
       "</style>\n",
       "<table border=\"1\" class=\"dataframe\">\n",
       "  <thead>\n",
       "    <tr style=\"text-align: right;\">\n",
       "      <th></th>\n",
       "      <th>Track</th>\n",
       "      <th>NaN Values</th>\n",
       "    </tr>\n",
       "  </thead>\n",
       "  <tbody>\n",
       "    <tr>\n",
       "      <th>27</th>\n",
       "      <td>TIDAL Popularity</td>\n",
       "      <td>4600</td>\n",
       "    </tr>\n",
       "    <tr>\n",
       "      <th>25</th>\n",
       "      <td>Soundcloud Streams</td>\n",
       "      <td>3333</td>\n",
       "    </tr>\n",
       "    <tr>\n",
       "      <th>19</th>\n",
       "      <td>SiriusXM Spins</td>\n",
       "      <td>2123</td>\n",
       "    </tr>\n",
       "    <tr>\n",
       "      <th>24</th>\n",
       "      <td>Pandora Track Stations</td>\n",
       "      <td>1268</td>\n",
       "    </tr>\n",
       "    <tr>\n",
       "      <th>13</th>\n",
       "      <td>TikTok Posts</td>\n",
       "      <td>1173</td>\n",
       "    </tr>\n",
       "    <tr>\n",
       "      <th>23</th>\n",
       "      <td>Pandora Streams</td>\n",
       "      <td>1106</td>\n",
       "    </tr>\n",
       "    <tr>\n",
       "      <th>22</th>\n",
       "      <td>Amazon Playlist Count</td>\n",
       "      <td>1055</td>\n",
       "    </tr>\n",
       "    <tr>\n",
       "      <th>16</th>\n",
       "      <td>YouTube Playlist Reach</td>\n",
       "      <td>1009</td>\n",
       "    </tr>\n",
       "    <tr>\n",
       "      <th>15</th>\n",
       "      <td>TikTok Views</td>\n",
       "      <td>981</td>\n",
       "    </tr>\n",
       "    <tr>\n",
       "      <th>14</th>\n",
       "      <td>TikTok Likes</td>\n",
       "      <td>980</td>\n",
       "    </tr>\n",
       "    <tr>\n",
       "      <th>21</th>\n",
       "      <td>Deezer Playlist Reach</td>\n",
       "      <td>928</td>\n",
       "    </tr>\n",
       "    <tr>\n",
       "      <th>20</th>\n",
       "      <td>Deezer Playlist Count</td>\n",
       "      <td>921</td>\n",
       "    </tr>\n",
       "    <tr>\n",
       "      <th>10</th>\n",
       "      <td>Spotify Popularity</td>\n",
       "      <td>804</td>\n",
       "    </tr>\n",
       "    <tr>\n",
       "      <th>26</th>\n",
       "      <td>Shazam Counts</td>\n",
       "      <td>577</td>\n",
       "    </tr>\n",
       "    <tr>\n",
       "      <th>17</th>\n",
       "      <td>Apple Music Playlist Count</td>\n",
       "      <td>561</td>\n",
       "    </tr>\n",
       "    <tr>\n",
       "      <th>18</th>\n",
       "      <td>AirPlay Spins</td>\n",
       "      <td>498</td>\n",
       "    </tr>\n",
       "    <tr>\n",
       "      <th>12</th>\n",
       "      <td>YouTube Likes</td>\n",
       "      <td>315</td>\n",
       "    </tr>\n",
       "    <tr>\n",
       "      <th>11</th>\n",
       "      <td>YouTube Views</td>\n",
       "      <td>308</td>\n",
       "    </tr>\n",
       "    <tr>\n",
       "      <th>7</th>\n",
       "      <td>Spotify Streams</td>\n",
       "      <td>113</td>\n",
       "    </tr>\n",
       "    <tr>\n",
       "      <th>9</th>\n",
       "      <td>Spotify Playlist Reach</td>\n",
       "      <td>72</td>\n",
       "    </tr>\n",
       "    <tr>\n",
       "      <th>8</th>\n",
       "      <td>Spotify Playlist Count</td>\n",
       "      <td>70</td>\n",
       "    </tr>\n",
       "    <tr>\n",
       "      <th>2</th>\n",
       "      <td>Artist</td>\n",
       "      <td>5</td>\n",
       "    </tr>\n",
       "  </tbody>\n",
       "</table>\n",
       "</div>"
      ],
      "text/plain": [
       "                         Track  NaN Values\n",
       "27            TIDAL Popularity        4600\n",
       "25          Soundcloud Streams        3333\n",
       "19              SiriusXM Spins        2123\n",
       "24      Pandora Track Stations        1268\n",
       "13                TikTok Posts        1173\n",
       "23             Pandora Streams        1106\n",
       "22       Amazon Playlist Count        1055\n",
       "16      YouTube Playlist Reach        1009\n",
       "15                TikTok Views         981\n",
       "14                TikTok Likes         980\n",
       "21       Deezer Playlist Reach         928\n",
       "20       Deezer Playlist Count         921\n",
       "10          Spotify Popularity         804\n",
       "26               Shazam Counts         577\n",
       "17  Apple Music Playlist Count         561\n",
       "18               AirPlay Spins         498\n",
       "12               YouTube Likes         315\n",
       "11               YouTube Views         308\n",
       "7              Spotify Streams         113\n",
       "9       Spotify Playlist Reach          72\n",
       "8       Spotify Playlist Count          70\n",
       "2                       Artist           5"
      ]
     },
     "execution_count": 78,
     "metadata": {},
     "output_type": "execute_result"
    }
   ],
   "source": [
    "df_nanvalues = pd.DataFrame(df.isnull().sum()).reset_index().rename(columns={'index':'Track',0:'NaN Values'})\n",
    "df_nanvalues.drop(index=df.index[0], axis=0, inplace=True)\n",
    "df_nanvalues[df_nanvalues['NaN Values']>0].sort_values(by='NaN Values', ascending=False)"
   ]
  },
  {
   "cell_type": "markdown",
   "id": "2db35cf3",
   "metadata": {},
   "source": [
    "### Remove columns that contain no information to keep consistency."
   ]
  },
  {
   "cell_type": "code",
   "execution_count": 79,
   "id": "78278c6f",
   "metadata": {},
   "outputs": [
    {
     "name": "stdout",
     "output_type": "stream",
     "text": [
      "<class 'pandas.core.frame.DataFrame'>\n",
      "RangeIndex: 4600 entries, 0 to 4599\n",
      "Data columns (total 28 columns):\n",
      " #   Column                      Non-Null Count  Dtype  \n",
      "---  ------                      --------------  -----  \n",
      " 0   Track                       4600 non-null   object \n",
      " 1   Album Name                  4600 non-null   object \n",
      " 2   Artist                      4595 non-null   object \n",
      " 3   Release Date                4600 non-null   object \n",
      " 4   ISRC                        4600 non-null   object \n",
      " 5   All Time Rank               4600 non-null   object \n",
      " 6   Track Score                 4600 non-null   float64\n",
      " 7   Spotify Streams             4487 non-null   object \n",
      " 8   Spotify Playlist Count      4530 non-null   object \n",
      " 9   Spotify Playlist Reach      4528 non-null   object \n",
      " 10  Spotify Popularity          3796 non-null   float64\n",
      " 11  YouTube Views               4292 non-null   object \n",
      " 12  YouTube Likes               4285 non-null   object \n",
      " 13  TikTok Posts                3427 non-null   object \n",
      " 14  TikTok Likes                3620 non-null   object \n",
      " 15  TikTok Views                3619 non-null   object \n",
      " 16  YouTube Playlist Reach      3591 non-null   object \n",
      " 17  Apple Music Playlist Count  4039 non-null   float64\n",
      " 18  AirPlay Spins               4102 non-null   object \n",
      " 19  SiriusXM Spins              2477 non-null   object \n",
      " 20  Deezer Playlist Count       3679 non-null   float64\n",
      " 21  Deezer Playlist Reach       3672 non-null   object \n",
      " 22  Amazon Playlist Count       3545 non-null   float64\n",
      " 23  Pandora Streams             3494 non-null   object \n",
      " 24  Pandora Track Stations      3332 non-null   object \n",
      " 25  Soundcloud Streams          1267 non-null   object \n",
      " 26  Shazam Counts               4023 non-null   object \n",
      " 27  Explicit Track              4600 non-null   int64  \n",
      "dtypes: float64(5), int64(1), object(22)\n",
      "memory usage: 1006.4+ KB\n"
     ]
    }
   ],
   "source": [
    "df.drop('TIDAL Popularity', axis=1, inplace=True)\n",
    "df.info()"
   ]
  },
  {
   "cell_type": "markdown",
   "id": "315e4189",
   "metadata": {},
   "source": [
    "### Verify data type for selected column and convert to correct one (if needed).\n",
    "### Object --> Integer (remove comas ',')\n"
   ]
  },
  {
   "cell_type": "code",
   "execution_count": 80,
   "id": "a660c22c",
   "metadata": {},
   "outputs": [
    {
     "data": {
      "text/plain": [
       "0"
      ]
     },
     "execution_count": 80,
     "metadata": {},
     "output_type": "execute_result"
    }
   ],
   "source": [
    "df['Spotify Playlist Count'] = df['Spotify Playlist Count'].fillna(0)\n",
    "df['Spotify Playlist Count'].isnull().sum()"
   ]
  },
  {
   "cell_type": "code",
   "execution_count": 81,
   "id": "f0f8cffa",
   "metadata": {},
   "outputs": [
    {
     "data": {
      "text/plain": [
       "0        30716\n",
       "1        28113\n",
       "2        54331\n",
       "3       269802\n",
       "4         7223\n",
       "         ...  \n",
       "4595     65770\n",
       "4596      4602\n",
       "4597     72066\n",
       "4598     14037\n",
       "4599     32138\n",
       "Name: Spotify Playlist Count, Length: 4600, dtype: object"
      ]
     },
     "execution_count": 81,
     "metadata": {},
     "output_type": "execute_result"
    }
   ],
   "source": [
    "df['Spotify Playlist Count'] = df['Spotify Playlist Count'].apply(lambda x: str(x).replace(',', ''))\n",
    "df['Spotify Playlist Count']"
   ]
  },
  {
   "cell_type": "code",
   "execution_count": 83,
   "id": "bbdf5328",
   "metadata": {},
   "outputs": [
    {
     "data": {
      "text/plain": [
       "dtype('int16')"
      ]
     },
     "execution_count": 83,
     "metadata": {},
     "output_type": "execute_result"
    }
   ],
   "source": [
    "df['Spotify Playlist Count'] = df['Spotify Playlist Count'].astype('int16')\n",
    "df['Spotify Playlist Count'].dtype"
   ]
  },
  {
   "cell_type": "markdown",
   "id": "efa5d582",
   "metadata": {},
   "source": [
    "### Format date - assing correct one\n",
    "\n",
    "#### Extract Month and Year"
   ]
  },
  {
   "cell_type": "code",
   "execution_count": 84,
   "id": "044c2df0",
   "metadata": {},
   "outputs": [
    {
     "data": {
      "text/plain": [
       "0      2024-04-26\n",
       "1      2024-05-04\n",
       "2      2024-03-19\n",
       "3      2023-01-12\n",
       "4      2024-05-31\n",
       "          ...    \n",
       "4595   2017-09-05\n",
       "4596   2018-07-27\n",
       "4597   2020-02-28\n",
       "4598   2016-11-08\n",
       "4599   2017-04-11\n",
       "Name: Release Date, Length: 4600, dtype: datetime64[ns]"
      ]
     },
     "execution_count": 84,
     "metadata": {},
     "output_type": "execute_result"
    }
   ],
   "source": [
    "df['Release Date'] = pd.to_datetime(df['Release Date'])\n",
    "df['Release Date']"
   ]
  },
  {
   "cell_type": "code",
   "execution_count": 85,
   "id": "86d6ef1d",
   "metadata": {},
   "outputs": [
    {
     "data": {
      "text/plain": [
       "0        4\n",
       "1        5\n",
       "2        3\n",
       "3        1\n",
       "4        5\n",
       "        ..\n",
       "4595     9\n",
       "4596     7\n",
       "4597     2\n",
       "4598    11\n",
       "4599     4\n",
       "Name: Month, Length: 4600, dtype: int32"
      ]
     },
     "execution_count": 85,
     "metadata": {},
     "output_type": "execute_result"
    }
   ],
   "source": [
    "df['Month'] = df['Release Date'].dt.month\n",
    "df['Month']"
   ]
  },
  {
   "cell_type": "code",
   "execution_count": 86,
   "id": "e5be3149",
   "metadata": {},
   "outputs": [
    {
     "data": {
      "text/plain": [
       "0       2024\n",
       "1       2024\n",
       "2       2024\n",
       "3       2023\n",
       "4       2024\n",
       "        ... \n",
       "4595    2017\n",
       "4596    2018\n",
       "4597    2020\n",
       "4598    2016\n",
       "4599    2017\n",
       "Name: Year, Length: 4600, dtype: int32"
      ]
     },
     "execution_count": 86,
     "metadata": {},
     "output_type": "execute_result"
    }
   ],
   "source": [
    "df['Year'] = df['Release Date'].dt.year\n",
    "df['Year']"
   ]
  },
  {
   "cell_type": "markdown",
   "id": "b3d620ee",
   "metadata": {},
   "source": [
    "### Look for duplicates (and remove any if needed)"
   ]
  },
  {
   "cell_type": "code",
   "execution_count": 87,
   "id": "4eb1dc06",
   "metadata": {},
   "outputs": [
    {
     "data": {
      "text/html": [
       "<div>\n",
       "<style scoped>\n",
       "    .dataframe tbody tr th:only-of-type {\n",
       "        vertical-align: middle;\n",
       "    }\n",
       "\n",
       "    .dataframe tbody tr th {\n",
       "        vertical-align: top;\n",
       "    }\n",
       "\n",
       "    .dataframe thead th {\n",
       "        text-align: right;\n",
       "    }\n",
       "</style>\n",
       "<table border=\"1\" class=\"dataframe\">\n",
       "  <thead>\n",
       "    <tr style=\"text-align: right;\">\n",
       "      <th></th>\n",
       "      <th>Duplicate</th>\n",
       "    </tr>\n",
       "  </thead>\n",
       "  <tbody>\n",
       "    <tr>\n",
       "      <th>2450</th>\n",
       "      <td>True</td>\n",
       "    </tr>\n",
       "    <tr>\n",
       "      <th>3450</th>\n",
       "      <td>True</td>\n",
       "    </tr>\n",
       "  </tbody>\n",
       "</table>\n",
       "</div>"
      ],
      "text/plain": [
       "      Duplicate\n",
       "2450       True\n",
       "3450       True"
      ]
     },
     "execution_count": 87,
     "metadata": {},
     "output_type": "execute_result"
    }
   ],
   "source": [
    "df_duplicate =pd.DataFrame(df.duplicated()).rename(columns={0:'Duplicate'})\n",
    "df_duplicate[df_duplicate ['Duplicate'] == True]\n"
   ]
  },
  {
   "cell_type": "code",
   "execution_count": 88,
   "id": "7663aa15",
   "metadata": {},
   "outputs": [
    {
     "data": {
      "text/html": [
       "<div>\n",
       "<style scoped>\n",
       "    .dataframe tbody tr th:only-of-type {\n",
       "        vertical-align: middle;\n",
       "    }\n",
       "\n",
       "    .dataframe tbody tr th {\n",
       "        vertical-align: top;\n",
       "    }\n",
       "\n",
       "    .dataframe thead th {\n",
       "        text-align: right;\n",
       "    }\n",
       "</style>\n",
       "<table border=\"1\" class=\"dataframe\">\n",
       "  <thead>\n",
       "    <tr style=\"text-align: right;\">\n",
       "      <th></th>\n",
       "      <th>Track</th>\n",
       "      <th>Album Name</th>\n",
       "      <th>Artist</th>\n",
       "      <th>Release Date</th>\n",
       "      <th>ISRC</th>\n",
       "      <th>All Time Rank</th>\n",
       "      <th>Track Score</th>\n",
       "      <th>Spotify Streams</th>\n",
       "      <th>Spotify Playlist Count</th>\n",
       "      <th>Spotify Playlist Reach</th>\n",
       "      <th>...</th>\n",
       "      <th>Deezer Playlist Count</th>\n",
       "      <th>Deezer Playlist Reach</th>\n",
       "      <th>Amazon Playlist Count</th>\n",
       "      <th>Pandora Streams</th>\n",
       "      <th>Pandora Track Stations</th>\n",
       "      <th>Soundcloud Streams</th>\n",
       "      <th>Shazam Counts</th>\n",
       "      <th>Explicit Track</th>\n",
       "      <th>Month</th>\n",
       "      <th>Year</th>\n",
       "    </tr>\n",
       "  </thead>\n",
       "  <tbody>\n",
       "    <tr>\n",
       "      <th>2450</th>\n",
       "      <td>Tennessee Orange</td>\n",
       "      <td>Tennessee Orange</td>\n",
       "      <td>Megan Moroney</td>\n",
       "      <td>2022-09-02</td>\n",
       "      <td>TCAGJ2289254</td>\n",
       "      <td>2,424</td>\n",
       "      <td>28.9</td>\n",
       "      <td>227,893,586</td>\n",
       "      <td>28139</td>\n",
       "      <td>12,480,714</td>\n",
       "      <td>...</td>\n",
       "      <td>5.0</td>\n",
       "      <td>1,370</td>\n",
       "      <td>49.0</td>\n",
       "      <td>56,972,562</td>\n",
       "      <td>26,968</td>\n",
       "      <td>1,336,043</td>\n",
       "      <td>708,143</td>\n",
       "      <td>0</td>\n",
       "      <td>9</td>\n",
       "      <td>2022</td>\n",
       "    </tr>\n",
       "    <tr>\n",
       "      <th>3450</th>\n",
       "      <td>Dembow</td>\n",
       "      <td>Dembow</td>\n",
       "      <td>Danny Ocean</td>\n",
       "      <td>2017-12-08</td>\n",
       "      <td>USWL11700269</td>\n",
       "      <td>3,441</td>\n",
       "      <td>23.3</td>\n",
       "      <td>579,189,526</td>\n",
       "      <td>-5139</td>\n",
       "      <td>11,805,084</td>\n",
       "      <td>...</td>\n",
       "      <td>20.0</td>\n",
       "      <td>37,649</td>\n",
       "      <td>12.0</td>\n",
       "      <td>6,723,858</td>\n",
       "      <td>7,832</td>\n",
       "      <td>NaN</td>\n",
       "      <td>1,619,550</td>\n",
       "      <td>0</td>\n",
       "      <td>12</td>\n",
       "      <td>2017</td>\n",
       "    </tr>\n",
       "  </tbody>\n",
       "</table>\n",
       "<p>2 rows × 30 columns</p>\n",
       "</div>"
      ],
      "text/plain": [
       "                 Track        Album Name         Artist Release Date  \\\n",
       "2450  Tennessee Orange  Tennessee Orange  Megan Moroney   2022-09-02   \n",
       "3450            Dembow            Dembow    Danny Ocean   2017-12-08   \n",
       "\n",
       "              ISRC All Time Rank  Track Score Spotify Streams  \\\n",
       "2450  TCAGJ2289254         2,424         28.9     227,893,586   \n",
       "3450  USWL11700269         3,441         23.3     579,189,526   \n",
       "\n",
       "      Spotify Playlist Count Spotify Playlist Reach  ...  \\\n",
       "2450                   28139             12,480,714  ...   \n",
       "3450                   -5139             11,805,084  ...   \n",
       "\n",
       "      Deezer Playlist Count Deezer Playlist Reach Amazon Playlist Count  \\\n",
       "2450                    5.0                 1,370                  49.0   \n",
       "3450                   20.0                37,649                  12.0   \n",
       "\n",
       "     Pandora Streams Pandora Track Stations Soundcloud Streams Shazam Counts  \\\n",
       "2450      56,972,562                 26,968          1,336,043       708,143   \n",
       "3450       6,723,858                  7,832                NaN     1,619,550   \n",
       "\n",
       "      Explicit Track Month  Year  \n",
       "2450               0     9  2022  \n",
       "3450               0    12  2017  \n",
       "\n",
       "[2 rows x 30 columns]"
      ]
     },
     "execution_count": 88,
     "metadata": {},
     "output_type": "execute_result"
    }
   ],
   "source": [
    "df.iloc[[2450,3450]]"
   ]
  },
  {
   "cell_type": "code",
   "execution_count": 89,
   "id": "8d5054df",
   "metadata": {},
   "outputs": [
    {
     "data": {
      "text/html": [
       "<div>\n",
       "<style scoped>\n",
       "    .dataframe tbody tr th:only-of-type {\n",
       "        vertical-align: middle;\n",
       "    }\n",
       "\n",
       "    .dataframe tbody tr th {\n",
       "        vertical-align: top;\n",
       "    }\n",
       "\n",
       "    .dataframe thead th {\n",
       "        text-align: right;\n",
       "    }\n",
       "</style>\n",
       "<table border=\"1\" class=\"dataframe\">\n",
       "  <thead>\n",
       "    <tr style=\"text-align: right;\">\n",
       "      <th></th>\n",
       "      <th>Track</th>\n",
       "      <th>Album Name</th>\n",
       "      <th>Artist</th>\n",
       "      <th>Release Date</th>\n",
       "      <th>ISRC</th>\n",
       "      <th>All Time Rank</th>\n",
       "      <th>Track Score</th>\n",
       "      <th>Spotify Streams</th>\n",
       "      <th>Spotify Playlist Count</th>\n",
       "      <th>Spotify Playlist Reach</th>\n",
       "      <th>...</th>\n",
       "      <th>Deezer Playlist Count</th>\n",
       "      <th>Deezer Playlist Reach</th>\n",
       "      <th>Amazon Playlist Count</th>\n",
       "      <th>Pandora Streams</th>\n",
       "      <th>Pandora Track Stations</th>\n",
       "      <th>Soundcloud Streams</th>\n",
       "      <th>Shazam Counts</th>\n",
       "      <th>Explicit Track</th>\n",
       "      <th>Month</th>\n",
       "      <th>Year</th>\n",
       "    </tr>\n",
       "  </thead>\n",
       "  <tbody>\n",
       "    <tr>\n",
       "      <th>2449</th>\n",
       "      <td>Tennessee Orange</td>\n",
       "      <td>Tennessee Orange</td>\n",
       "      <td>Megan Moroney</td>\n",
       "      <td>2022-09-02</td>\n",
       "      <td>TCAGJ2289254</td>\n",
       "      <td>2,424</td>\n",
       "      <td>28.9</td>\n",
       "      <td>227,893,586</td>\n",
       "      <td>28139</td>\n",
       "      <td>12,480,714</td>\n",
       "      <td>...</td>\n",
       "      <td>5.0</td>\n",
       "      <td>1,370</td>\n",
       "      <td>49.0</td>\n",
       "      <td>56,972,562</td>\n",
       "      <td>26,968</td>\n",
       "      <td>1,336,043</td>\n",
       "      <td>708,143</td>\n",
       "      <td>0</td>\n",
       "      <td>9</td>\n",
       "      <td>2022</td>\n",
       "    </tr>\n",
       "    <tr>\n",
       "      <th>2450</th>\n",
       "      <td>Tennessee Orange</td>\n",
       "      <td>Tennessee Orange</td>\n",
       "      <td>Megan Moroney</td>\n",
       "      <td>2022-09-02</td>\n",
       "      <td>TCAGJ2289254</td>\n",
       "      <td>2,424</td>\n",
       "      <td>28.9</td>\n",
       "      <td>227,893,586</td>\n",
       "      <td>28139</td>\n",
       "      <td>12,480,714</td>\n",
       "      <td>...</td>\n",
       "      <td>5.0</td>\n",
       "      <td>1,370</td>\n",
       "      <td>49.0</td>\n",
       "      <td>56,972,562</td>\n",
       "      <td>26,968</td>\n",
       "      <td>1,336,043</td>\n",
       "      <td>708,143</td>\n",
       "      <td>0</td>\n",
       "      <td>9</td>\n",
       "      <td>2022</td>\n",
       "    </tr>\n",
       "    <tr>\n",
       "      <th>3447</th>\n",
       "      <td>Dembow</td>\n",
       "      <td>Dembow</td>\n",
       "      <td>Danny Ocean</td>\n",
       "      <td>2017-12-08</td>\n",
       "      <td>USWL11700269</td>\n",
       "      <td>3,441</td>\n",
       "      <td>23.3</td>\n",
       "      <td>579,189,526</td>\n",
       "      <td>-5139</td>\n",
       "      <td>11,805,084</td>\n",
       "      <td>...</td>\n",
       "      <td>20.0</td>\n",
       "      <td>37,649</td>\n",
       "      <td>12.0</td>\n",
       "      <td>6,723,858</td>\n",
       "      <td>7,832</td>\n",
       "      <td>NaN</td>\n",
       "      <td>1,619,550</td>\n",
       "      <td>0</td>\n",
       "      <td>12</td>\n",
       "      <td>2017</td>\n",
       "    </tr>\n",
       "    <tr>\n",
       "      <th>3450</th>\n",
       "      <td>Dembow</td>\n",
       "      <td>Dembow</td>\n",
       "      <td>Danny Ocean</td>\n",
       "      <td>2017-12-08</td>\n",
       "      <td>USWL11700269</td>\n",
       "      <td>3,441</td>\n",
       "      <td>23.3</td>\n",
       "      <td>579,189,526</td>\n",
       "      <td>-5139</td>\n",
       "      <td>11,805,084</td>\n",
       "      <td>...</td>\n",
       "      <td>20.0</td>\n",
       "      <td>37,649</td>\n",
       "      <td>12.0</td>\n",
       "      <td>6,723,858</td>\n",
       "      <td>7,832</td>\n",
       "      <td>NaN</td>\n",
       "      <td>1,619,550</td>\n",
       "      <td>0</td>\n",
       "      <td>12</td>\n",
       "      <td>2017</td>\n",
       "    </tr>\n",
       "  </tbody>\n",
       "</table>\n",
       "<p>4 rows × 30 columns</p>\n",
       "</div>"
      ],
      "text/plain": [
       "                 Track        Album Name         Artist Release Date  \\\n",
       "2449  Tennessee Orange  Tennessee Orange  Megan Moroney   2022-09-02   \n",
       "2450  Tennessee Orange  Tennessee Orange  Megan Moroney   2022-09-02   \n",
       "3447            Dembow            Dembow    Danny Ocean   2017-12-08   \n",
       "3450            Dembow            Dembow    Danny Ocean   2017-12-08   \n",
       "\n",
       "              ISRC All Time Rank  Track Score Spotify Streams  \\\n",
       "2449  TCAGJ2289254         2,424         28.9     227,893,586   \n",
       "2450  TCAGJ2289254         2,424         28.9     227,893,586   \n",
       "3447  USWL11700269         3,441         23.3     579,189,526   \n",
       "3450  USWL11700269         3,441         23.3     579,189,526   \n",
       "\n",
       "      Spotify Playlist Count Spotify Playlist Reach  ...  \\\n",
       "2449                   28139             12,480,714  ...   \n",
       "2450                   28139             12,480,714  ...   \n",
       "3447                   -5139             11,805,084  ...   \n",
       "3450                   -5139             11,805,084  ...   \n",
       "\n",
       "      Deezer Playlist Count Deezer Playlist Reach Amazon Playlist Count  \\\n",
       "2449                    5.0                 1,370                  49.0   \n",
       "2450                    5.0                 1,370                  49.0   \n",
       "3447                   20.0                37,649                  12.0   \n",
       "3450                   20.0                37,649                  12.0   \n",
       "\n",
       "     Pandora Streams Pandora Track Stations Soundcloud Streams Shazam Counts  \\\n",
       "2449      56,972,562                 26,968          1,336,043       708,143   \n",
       "2450      56,972,562                 26,968          1,336,043       708,143   \n",
       "3447       6,723,858                  7,832                NaN     1,619,550   \n",
       "3450       6,723,858                  7,832                NaN     1,619,550   \n",
       "\n",
       "      Explicit Track Month  Year  \n",
       "2449               0     9  2022  \n",
       "2450               0     9  2022  \n",
       "3447               0    12  2017  \n",
       "3450               0    12  2017  \n",
       "\n",
       "[4 rows x 30 columns]"
      ]
     },
     "execution_count": 89,
     "metadata": {},
     "output_type": "execute_result"
    }
   ],
   "source": [
    "filtered_df = df[df['ISRC'].str.contains('TCAGJ2289254') | df['ISRC'].str.contains('USWL11700269')]\n",
    "filtered_df"
   ]
  },
  {
   "cell_type": "markdown",
   "id": "4581d954",
   "metadata": {},
   "source": [
    "### Univariate Analysis\n",
    "\n",
    "#### Category: Artist with Explicit tracks"
   ]
  },
  {
   "cell_type": "code",
   "execution_count": 90,
   "id": "a73877ac",
   "metadata": {},
   "outputs": [
    {
     "data": {
      "text/plain": [
       "Artist\n",
       "Drake           54\n",
       "Bad Bunny       42\n",
       "Travis Scott    29\n",
       "Future          22\n",
       "Juice WRLD      21\n",
       "                ..\n",
       "mgk              1\n",
       "Davido           1\n",
       "Alok             1\n",
       "MC Fioti         1\n",
       "BUSHIDO ZHO      1\n",
       "Name: count, Length: 678, dtype: int64"
      ]
     },
     "execution_count": 90,
     "metadata": {},
     "output_type": "execute_result"
    }
   ],
   "source": [
    "explicit_track = df[df['Explicit Track']==1]\n",
    "Count_artist = explicit_track['Artist'].value_counts()\n",
    "Count_artist"
   ]
  },
  {
   "cell_type": "code",
   "execution_count": 91,
   "id": "78f6f99c",
   "metadata": {},
   "outputs": [
    {
     "data": {
      "image/png": "[encoded data removed]",
      "text/plain": [
       "<Figure size 2000x1000 with 1 Axes>"
      ]
     },
     "metadata": {},
     "output_type": "display_data"
    }
   ],
   "source": [
    "plt.figure(figsize=(20, 10))\n",
    "Count_artist.head(20).plot(kind='barh')\n",
    "\n",
    "# Add labels and title\n",
    "plt.xlabel('Frequency')\n",
    "plt.ylabel('Artist')\n",
    "plt.title('Top Artist by Song (Explicit Track ONLY)')\n",
    "plt.gca().invert_yaxis()\n",
    "plt.grid(axis='x')\n",
    "plt.show()"
   ]
  },
  {
   "cell_type": "markdown",
   "id": "f33795c0",
   "metadata": {},
   "source": [
    "### Univariate Analysis\n",
    "\n",
    "#### Numerical : Track Score\n",
    "\n",
    "##### IQR, Quartile Deviation, Outliers"
   ]
  },
  {
   "cell_type": "code",
   "execution_count": 92,
   "id": "a298067b",
   "metadata": {},
   "outputs": [
    {
     "data": {
      "text/html": [
       "<div>\n",
       "<style scoped>\n",
       "    .dataframe tbody tr th:only-of-type {\n",
       "        vertical-align: middle;\n",
       "    }\n",
       "\n",
       "    .dataframe tbody tr th {\n",
       "        vertical-align: top;\n",
       "    }\n",
       "\n",
       "    .dataframe thead th {\n",
       "        text-align: right;\n",
       "    }\n",
       "</style>\n",
       "<table border=\"1\" class=\"dataframe\">\n",
       "  <thead>\n",
       "    <tr style=\"text-align: right;\">\n",
       "      <th></th>\n",
       "      <th>Release Date</th>\n",
       "      <th>Track Score</th>\n",
       "      <th>Spotify Playlist Count</th>\n",
       "      <th>Spotify Popularity</th>\n",
       "      <th>Apple Music Playlist Count</th>\n",
       "      <th>Deezer Playlist Count</th>\n",
       "      <th>Amazon Playlist Count</th>\n",
       "      <th>Explicit Track</th>\n",
       "      <th>Month</th>\n",
       "      <th>Year</th>\n",
       "    </tr>\n",
       "  </thead>\n",
       "  <tbody>\n",
       "    <tr>\n",
       "      <th>count</th>\n",
       "      <td>4600</td>\n",
       "      <td>4600.0</td>\n",
       "      <td>4600.0</td>\n",
       "      <td>3796.0</td>\n",
       "      <td>4039.0</td>\n",
       "      <td>3679.0</td>\n",
       "      <td>3545.0</td>\n",
       "      <td>4600.0</td>\n",
       "      <td>4600.0</td>\n",
       "      <td>4600.0</td>\n",
       "    </tr>\n",
       "    <tr>\n",
       "      <th>mean</th>\n",
       "      <td>2021-01-27 07:48:18.782608896</td>\n",
       "      <td>41.8</td>\n",
       "      <td>2824.2</td>\n",
       "      <td>63.5</td>\n",
       "      <td>54.6</td>\n",
       "      <td>32.3</td>\n",
       "      <td>25.3</td>\n",
       "      <td>0.4</td>\n",
       "      <td>6.0</td>\n",
       "      <td>2020.6</td>\n",
       "    </tr>\n",
       "    <tr>\n",
       "      <th>min</th>\n",
       "      <td>1987-07-21 00:00:00</td>\n",
       "      <td>19.4</td>\n",
       "      <td>-32767.0</td>\n",
       "      <td>1.0</td>\n",
       "      <td>1.0</td>\n",
       "      <td>1.0</td>\n",
       "      <td>1.0</td>\n",
       "      <td>0.0</td>\n",
       "      <td>1.0</td>\n",
       "      <td>1987.0</td>\n",
       "    </tr>\n",
       "    <tr>\n",
       "      <th>25%</th>\n",
       "      <td>2019-07-16 18:00:00</td>\n",
       "      <td>23.3</td>\n",
       "      <td>-6049.8</td>\n",
       "      <td>61.0</td>\n",
       "      <td>10.0</td>\n",
       "      <td>5.0</td>\n",
       "      <td>8.0</td>\n",
       "      <td>0.0</td>\n",
       "      <td>3.0</td>\n",
       "      <td>2019.0</td>\n",
       "    </tr>\n",
       "    <tr>\n",
       "      <th>50%</th>\n",
       "      <td>2022-06-01 00:00:00</td>\n",
       "      <td>29.9</td>\n",
       "      <td>2854.0</td>\n",
       "      <td>67.0</td>\n",
       "      <td>28.0</td>\n",
       "      <td>15.0</td>\n",
       "      <td>17.0</td>\n",
       "      <td>0.0</td>\n",
       "      <td>6.0</td>\n",
       "      <td>2022.0</td>\n",
       "    </tr>\n",
       "    <tr>\n",
       "      <th>75%</th>\n",
       "      <td>2023-08-11 00:00:00</td>\n",
       "      <td>44.4</td>\n",
       "      <td>14601.5</td>\n",
       "      <td>73.0</td>\n",
       "      <td>70.0</td>\n",
       "      <td>37.0</td>\n",
       "      <td>34.0</td>\n",
       "      <td>1.0</td>\n",
       "      <td>9.0</td>\n",
       "      <td>2023.0</td>\n",
       "    </tr>\n",
       "    <tr>\n",
       "      <th>max</th>\n",
       "      <td>2024-06-14 00:00:00</td>\n",
       "      <td>725.4</td>\n",
       "      <td>32703.0</td>\n",
       "      <td>96.0</td>\n",
       "      <td>859.0</td>\n",
       "      <td>632.0</td>\n",
       "      <td>210.0</td>\n",
       "      <td>1.0</td>\n",
       "      <td>12.0</td>\n",
       "      <td>2024.0</td>\n",
       "    </tr>\n",
       "    <tr>\n",
       "      <th>std</th>\n",
       "      <td>NaN</td>\n",
       "      <td>38.5</td>\n",
       "      <td>16419.5</td>\n",
       "      <td>16.2</td>\n",
       "      <td>71.6</td>\n",
       "      <td>54.3</td>\n",
       "      <td>26.0</td>\n",
       "      <td>0.5</td>\n",
       "      <td>3.4</td>\n",
       "      <td>3.6</td>\n",
       "    </tr>\n",
       "  </tbody>\n",
       "</table>\n",
       "</div>"
      ],
      "text/plain": [
       "                        Release Date  Track Score  Spotify Playlist Count  \\\n",
       "count                           4600       4600.0                  4600.0   \n",
       "mean   2021-01-27 07:48:18.782608896         41.8                  2824.2   \n",
       "min              1987-07-21 00:00:00         19.4                -32767.0   \n",
       "25%              2019-07-16 18:00:00         23.3                 -6049.8   \n",
       "50%              2022-06-01 00:00:00         29.9                  2854.0   \n",
       "75%              2023-08-11 00:00:00         44.4                 14601.5   \n",
       "max              2024-06-14 00:00:00        725.4                 32703.0   \n",
       "std                              NaN         38.5                 16419.5   \n",
       "\n",
       "       Spotify Popularity  Apple Music Playlist Count  Deezer Playlist Count  \\\n",
       "count              3796.0                      4039.0                 3679.0   \n",
       "mean                 63.5                        54.6                   32.3   \n",
       "min                   1.0                         1.0                    1.0   \n",
       "25%                  61.0                        10.0                    5.0   \n",
       "50%                  67.0                        28.0                   15.0   \n",
       "75%                  73.0                        70.0                   37.0   \n",
       "max                  96.0                       859.0                  632.0   \n",
       "std                  16.2                        71.6                   54.3   \n",
       "\n",
       "       Amazon Playlist Count  Explicit Track  Month   Year  \n",
       "count                 3545.0          4600.0 4600.0 4600.0  \n",
       "mean                    25.3             0.4    6.0 2020.6  \n",
       "min                      1.0             0.0    1.0 1987.0  \n",
       "25%                      8.0             0.0    3.0 2019.0  \n",
       "50%                     17.0             0.0    6.0 2022.0  \n",
       "75%                     34.0             1.0    9.0 2023.0  \n",
       "max                    210.0             1.0   12.0 2024.0  \n",
       "std                     26.0             0.5    3.4    3.6  "
      ]
     },
     "execution_count": 92,
     "metadata": {},
     "output_type": "execute_result"
    }
   ],
   "source": [
    "df.describe()"
   ]
  },
  {
   "cell_type": "code",
   "execution_count": 93,
   "id": "8b7ee66c",
   "metadata": {},
   "outputs": [
    {
     "data": {
      "text/plain": [
       "21.124999999999996"
      ]
     },
     "execution_count": 93,
     "metadata": {},
     "output_type": "execute_result"
    }
   ],
   "source": [
    "Percentile_25 = np.percentile(df['Track Score'], 25)\n",
    "Percentile_75 = np.percentile(df['Track Score'], 75)\n",
    "\n",
    "IQR = Percentile_75-Percentile_25\n",
    "IQR"
   ]
  },
  {
   "cell_type": "code",
   "execution_count": 94,
   "id": "7ba3a467",
   "metadata": {},
   "outputs": [
    {
     "data": {
      "text/plain": [
       "10.562499999999998"
      ]
     },
     "execution_count": 94,
     "metadata": {},
     "output_type": "execute_result"
    }
   ],
   "source": [
    "Quartile_Deviation = IQR/2\n",
    "Quartile_Deviation"
   ]
  },
  {
   "cell_type": "code",
   "execution_count": 95,
   "id": "6276ff19",
   "metadata": {},
   "outputs": [
    {
     "data": {
      "text/plain": [
       "-8.387499999999992"
      ]
     },
     "execution_count": 95,
     "metadata": {},
     "output_type": "execute_result"
    }
   ],
   "source": [
    "Bottom_outlier = Percentile_25 - (1.5*IQR)\n",
    "Bottom_outlier"
   ]
  },
  {
   "cell_type": "code",
   "execution_count": 96,
   "id": "2a5ca6c9",
   "metadata": {},
   "outputs": [
    {
     "data": {
      "text/plain": [
       "12.737500000000004"
      ]
     },
     "execution_count": 96,
     "metadata": {},
     "output_type": "execute_result"
    }
   ],
   "source": [
    "Top_outlier = Percentile_75 - (1.5*IQR)\n",
    "Top_outlier"
   ]
  },
  {
   "cell_type": "markdown",
   "id": "60f0184f",
   "metadata": {},
   "source": [
    "### Bivariate Analysis\n",
    "\n",
    "#### Heatmap"
   ]
  },
  {
   "cell_type": "code",
   "execution_count": 97,
   "id": "eb112e6b",
   "metadata": {},
   "outputs": [
    {
     "name": "stdout",
     "output_type": "stream",
     "text": [
      "<class 'pandas.core.frame.DataFrame'>\n",
      "RangeIndex: 4600 entries, 0 to 4599\n",
      "Data columns (total 30 columns):\n",
      " #   Column                      Non-Null Count  Dtype         \n",
      "---  ------                      --------------  -----         \n",
      " 0   Track                       4600 non-null   object        \n",
      " 1   Album Name                  4600 non-null   object        \n",
      " 2   Artist                      4595 non-null   object        \n",
      " 3   Release Date                4600 non-null   datetime64[ns]\n",
      " 4   ISRC                        4600 non-null   object        \n",
      " 5   All Time Rank               4600 non-null   object        \n",
      " 6   Track Score                 4600 non-null   float64       \n",
      " 7   Spotify Streams             4487 non-null   object        \n",
      " 8   Spotify Playlist Count      4600 non-null   int16         \n",
      " 9   Spotify Playlist Reach      4528 non-null   object        \n",
      " 10  Spotify Popularity          3796 non-null   float64       \n",
      " 11  YouTube Views               4292 non-null   object        \n",
      " 12  YouTube Likes               4285 non-null   object        \n",
      " 13  TikTok Posts                3427 non-null   object        \n",
      " 14  TikTok Likes                3620 non-null   object        \n",
      " 15  TikTok Views                3619 non-null   object        \n",
      " 16  YouTube Playlist Reach      3591 non-null   object        \n",
      " 17  Apple Music Playlist Count  4039 non-null   float64       \n",
      " 18  AirPlay Spins               4102 non-null   object        \n",
      " 19  SiriusXM Spins              2477 non-null   object        \n",
      " 20  Deezer Playlist Count       3679 non-null   float64       \n",
      " 21  Deezer Playlist Reach       3672 non-null   object        \n",
      " 22  Amazon Playlist Count       3545 non-null   float64       \n",
      " 23  Pandora Streams             3494 non-null   object        \n",
      " 24  Pandora Track Stations      3332 non-null   object        \n",
      " 25  Soundcloud Streams          1267 non-null   object        \n",
      " 26  Shazam Counts               4023 non-null   object        \n",
      " 27  Explicit Track              4600 non-null   int64         \n",
      " 28  Month                       4600 non-null   int32         \n",
      " 29  Year                        4600 non-null   int32         \n",
      "dtypes: datetime64[ns](1), float64(5), int16(1), int32(2), int64(1), object(20)\n",
      "memory usage: 1015.4+ KB\n"
     ]
    }
   ],
   "source": [
    "df.info()"
   ]
  },
  {
   "cell_type": "code",
   "execution_count": 102,
   "id": "b3910a18",
   "metadata": {},
   "outputs": [
    {
     "data": {
      "text/plain": [
       "['Track Score',\n",
       " 'Spotify Playlist Count',\n",
       " 'Spotify Popularity',\n",
       " 'Apple Music Playlist Count',\n",
       " 'Deezer Playlist Count',\n",
       " 'Amazon Playlist Count',\n",
       " 'Explicit Track',\n",
       " 'Month',\n",
       " 'Year']"
      ]
     },
     "execution_count": 102,
     "metadata": {},
     "output_type": "execute_result"
    }
   ],
   "source": [
    "numerical_cols = [col for col in df.columns if df[col].dtype in ['float64', 'int16','int32','int64']]\n",
    "numerical_cols"
   ]
  },
  {
   "cell_type": "code",
   "execution_count": 119,
   "id": "28e05922",
   "metadata": {},
   "outputs": [
    {
     "data": {
      "image/png": "[encoded data removed]",
      "text/plain": [
       "<Figure size 1000x800 with 2 Axes>"
      ]
     },
     "metadata": {},
     "output_type": "display_data"
    }
   ],
   "source": [
    "correlation_matrix = df[numerical_cols].corr()\n",
    "\n",
    "\n",
    "plt.figure(figsize=(10, 8))\n",
    "sns.heatmap(correlation_matrix, annot=True, linewidths=0.5)\n",
    "plt.title('Correlation Heatmap')\n",
    "plt.show()"
   ]
  },
  {
   "cell_type": "markdown",
   "id": "e282fa9f",
   "metadata": {},
   "source": [
    "#### Scater Plot\n",
    "\n",
    "##### Apple Music Playlist count vs Deezer Playlist Count"
   ]
  },
  {
   "cell_type": "code",
   "execution_count": 116,
   "id": "6349c513",
   "metadata": {},
   "outputs": [
    {
     "data": {
      "image/png": "[encoded data removed]",
      "text/plain": [
       "<Figure size 1000x800 with 1 Axes>"
      ]
     },
     "metadata": {},
     "output_type": "display_data"
    }
   ],
   "source": [
    "plt.figure(figsize=(10, 8))\n",
    "plt.scatter(df['Apple Music Playlist Count'], df['Deezer Playlist Count'], color='blue', marker='.')\n",
    "plt.xlabel('Apple Music')\n",
    "plt.ylabel('Deezer')\n",
    "plt.title('Playlist Count')\n",
    "plt.show()"
   ]
  },
  {
   "cell_type": "code",
   "execution_count": null,
   "id": "ae6eafab",
   "metadata": {},
   "outputs": [],
   "source": []
  }
 ],
 "metadata": {
  "kernelspec": {
   "display_name": "Python 3 (ipykernel)",
   "language": "python",
   "name": "python3"
  },
  "language_info": {
   "codemirror_mode": {
    "name": "ipython",
    "version": 3
   },
   "file_extension": ".py",
   "mimetype": "text/x-python",
   "name": "python",
   "nbconvert_exporter": "python",
   "pygments_lexer": "ipython3",
   "version": "3.11.5"
  }
 },
 "nbformat": 4,
 "nbformat_minor": 5
}
